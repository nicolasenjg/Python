{
 "cells": [
  {
   "cell_type": "markdown",
   "id": "c375b543",
   "metadata": {},
   "source": [
    "# 6.4 Task"
   ]
  },
  {
   "cell_type": "markdown",
   "id": "a5233fdf",
   "metadata": {},
   "source": [
    "### Import libraries"
   ]
  },
  {
   "cell_type": "code",
   "execution_count": 1,
   "id": "5e91a2c5",
   "metadata": {},
   "outputs": [],
   "source": [
    "import pandas as pd\n",
    "import numpy as np\n",
    "import seaborn as sns\n",
    "import matplotlib\n",
    "import matplotlib.pyplot as plt\n",
    "import os\n",
    "import sklearn\n",
    "from sklearn.model_selection import train_test_split \n",
    "from sklearn.linear_model import LinearRegression\n",
    "from sklearn.metrics import mean_squared_error, r2_score"
   ]
  },
  {
   "cell_type": "code",
   "execution_count": 2,
   "id": "35892209",
   "metadata": {},
   "outputs": [],
   "source": [
    "# Create Path\n",
    "\n",
    "path=r'C:\\Users\\Nico\\Desktop\\Curso Data Analytics\\Module 6\\World Happiness report'"
   ]
  },
  {
   "cell_type": "code",
   "execution_count": 3,
   "id": "1bf9ef46",
   "metadata": {},
   "outputs": [],
   "source": [
    "#Load happy_df_2023 dataset and create a dataframe called 'happy_df_2023'\n",
    "\n",
    "happy_df_2023 = pd.read_csv(os.path.join(path, '02 Data', 'Prepared Data', 'happy_df_2023.csv'))"
   ]
  },
  {
   "cell_type": "code",
   "execution_count": 4,
   "id": "343d87b3",
   "metadata": {},
   "outputs": [
    {
     "data": {
      "text/plain": [
       "Index(['Unnamed: 0', 'country', 'happiness_score', 'gdp_per_capita',\n",
       "       'social_support', 'healthy_life_expectancy',\n",
       "       'freedom_to_make_life_choices', 'generosity',\n",
       "       'perceptions_of_corruption', 'rank'],\n",
       "      dtype='object')"
      ]
     },
     "execution_count": 4,
     "metadata": {},
     "output_type": "execute_result"
    }
   ],
   "source": [
    "happy_df_2023.columns"
   ]
  },
  {
   "cell_type": "markdown",
   "id": "ba4d7b77",
   "metadata": {},
   "source": [
    "## data cleaning"
   ]
  },
  {
   "cell_type": "code",
   "execution_count": 5,
   "id": "d9b76d51",
   "metadata": {},
   "outputs": [],
   "source": [
    "# Eliminate extra column\n",
    "\n",
    "happy_df_2023 = happy_df_2023.drop(columns = ['Unnamed: 0'])"
   ]
  },
  {
   "cell_type": "code",
   "execution_count": 6,
   "id": "e241111c",
   "metadata": {},
   "outputs": [
    {
     "data": {
      "text/plain": [
       "country                         0\n",
       "happiness_score                 0\n",
       "gdp_per_capita                  0\n",
       "social_support                  0\n",
       "healthy_life_expectancy         1\n",
       "freedom_to_make_life_choices    0\n",
       "generosity                      0\n",
       "perceptions_of_corruption       0\n",
       "rank                            0\n",
       "dtype: int64"
      ]
     },
     "execution_count": 6,
     "metadata": {},
     "output_type": "execute_result"
    }
   ],
   "source": [
    "#looking for null items\n",
    "\n",
    "happy_df_2023.isnull().sum()"
   ]
  },
  {
   "cell_type": "code",
   "execution_count": 14,
   "id": "fec0bf91",
   "metadata": {},
   "outputs": [],
   "source": [
    "#Replacing null items with the mean\n",
    "\n",
    "happy_df_2023['healthy_life_expectancy'].fillna(happy_df_2023['healthy_life_expectancy'].mean(),inplace=True)"
   ]
  },
  {
   "cell_type": "code",
   "execution_count": 15,
   "id": "8e64d510",
   "metadata": {},
   "outputs": [
    {
     "data": {
      "text/plain": [
       "country                         0\n",
       "happiness_score                 0\n",
       "gdp_per_capita                  0\n",
       "social_support                  0\n",
       "healthy_life_expectancy         0\n",
       "freedom_to_make_life_choices    0\n",
       "generosity                      0\n",
       "perceptions_of_corruption       0\n",
       "rank                            0\n",
       "dtype: int64"
      ]
     },
     "execution_count": 15,
     "metadata": {},
     "output_type": "execute_result"
    }
   ],
   "source": [
    "happy_df_2023.isnull().sum()"
   ]
  },
  {
   "cell_type": "code",
   "execution_count": 8,
   "id": "b7142e1b",
   "metadata": {},
   "outputs": [],
   "source": [
    "# Checking for duplicates\n",
    "\n",
    "dups = happy_df_2023.duplicated()"
   ]
  },
  {
   "cell_type": "code",
   "execution_count": 9,
   "id": "0b63bd34",
   "metadata": {},
   "outputs": [
    {
     "data": {
      "text/plain": [
       "(137,)"
      ]
     },
     "execution_count": 9,
     "metadata": {},
     "output_type": "execute_result"
    }
   ],
   "source": [
    "dups.shape"
   ]
  },
  {
   "cell_type": "code",
   "execution_count": 16,
   "id": "335f8053",
   "metadata": {},
   "outputs": [
    {
     "data": {
      "text/html": [
       "<div>\n",
       "<style scoped>\n",
       "    .dataframe tbody tr th:only-of-type {\n",
       "        vertical-align: middle;\n",
       "    }\n",
       "\n",
       "    .dataframe tbody tr th {\n",
       "        vertical-align: top;\n",
       "    }\n",
       "\n",
       "    .dataframe thead th {\n",
       "        text-align: right;\n",
       "    }\n",
       "</style>\n",
       "<table border=\"1\" class=\"dataframe\">\n",
       "  <thead>\n",
       "    <tr style=\"text-align: right;\">\n",
       "      <th></th>\n",
       "      <th>happiness_score</th>\n",
       "      <th>gdp_per_capita</th>\n",
       "      <th>social_support</th>\n",
       "      <th>healthy_life_expectancy</th>\n",
       "      <th>freedom_to_make_life_choices</th>\n",
       "      <th>generosity</th>\n",
       "      <th>perceptions_of_corruption</th>\n",
       "      <th>rank</th>\n",
       "    </tr>\n",
       "  </thead>\n",
       "  <tbody>\n",
       "    <tr>\n",
       "      <th>count</th>\n",
       "      <td>137.000000</td>\n",
       "      <td>137.000000</td>\n",
       "      <td>137.000000</td>\n",
       "      <td>137.000000</td>\n",
       "      <td>137.000000</td>\n",
       "      <td>137.000000</td>\n",
       "      <td>137.000000</td>\n",
       "      <td>137.000000</td>\n",
       "    </tr>\n",
       "    <tr>\n",
       "      <th>mean</th>\n",
       "      <td>5.539796</td>\n",
       "      <td>9.449796</td>\n",
       "      <td>0.799073</td>\n",
       "      <td>64.967632</td>\n",
       "      <td>0.787394</td>\n",
       "      <td>0.022431</td>\n",
       "      <td>0.725401</td>\n",
       "      <td>68.978102</td>\n",
       "    </tr>\n",
       "    <tr>\n",
       "      <th>std</th>\n",
       "      <td>1.139929</td>\n",
       "      <td>1.207302</td>\n",
       "      <td>0.129222</td>\n",
       "      <td>5.729210</td>\n",
       "      <td>0.112371</td>\n",
       "      <td>0.141707</td>\n",
       "      <td>0.176956</td>\n",
       "      <td>39.698212</td>\n",
       "    </tr>\n",
       "    <tr>\n",
       "      <th>min</th>\n",
       "      <td>1.859000</td>\n",
       "      <td>5.527000</td>\n",
       "      <td>0.341000</td>\n",
       "      <td>51.530000</td>\n",
       "      <td>0.382000</td>\n",
       "      <td>-0.254000</td>\n",
       "      <td>0.146000</td>\n",
       "      <td>1.000000</td>\n",
       "    </tr>\n",
       "    <tr>\n",
       "      <th>25%</th>\n",
       "      <td>4.724000</td>\n",
       "      <td>8.591000</td>\n",
       "      <td>0.722000</td>\n",
       "      <td>60.698000</td>\n",
       "      <td>0.724000</td>\n",
       "      <td>-0.074000</td>\n",
       "      <td>0.668000</td>\n",
       "      <td>35.000000</td>\n",
       "    </tr>\n",
       "    <tr>\n",
       "      <th>50%</th>\n",
       "      <td>5.684000</td>\n",
       "      <td>9.567000</td>\n",
       "      <td>0.827000</td>\n",
       "      <td>65.825000</td>\n",
       "      <td>0.801000</td>\n",
       "      <td>0.001000</td>\n",
       "      <td>0.774000</td>\n",
       "      <td>69.000000</td>\n",
       "    </tr>\n",
       "    <tr>\n",
       "      <th>75%</th>\n",
       "      <td>6.334000</td>\n",
       "      <td>10.540000</td>\n",
       "      <td>0.896000</td>\n",
       "      <td>69.350000</td>\n",
       "      <td>0.874000</td>\n",
       "      <td>0.117000</td>\n",
       "      <td>0.846000</td>\n",
       "      <td>103.000000</td>\n",
       "    </tr>\n",
       "    <tr>\n",
       "      <th>max</th>\n",
       "      <td>7.804000</td>\n",
       "      <td>11.660000</td>\n",
       "      <td>0.983000</td>\n",
       "      <td>77.280000</td>\n",
       "      <td>0.961000</td>\n",
       "      <td>0.531000</td>\n",
       "      <td>0.929000</td>\n",
       "      <td>137.000000</td>\n",
       "    </tr>\n",
       "  </tbody>\n",
       "</table>\n",
       "</div>"
      ],
      "text/plain": [
       "       happiness_score  gdp_per_capita  social_support  \\\n",
       "count       137.000000      137.000000      137.000000   \n",
       "mean          5.539796        9.449796        0.799073   \n",
       "std           1.139929        1.207302        0.129222   \n",
       "min           1.859000        5.527000        0.341000   \n",
       "25%           4.724000        8.591000        0.722000   \n",
       "50%           5.684000        9.567000        0.827000   \n",
       "75%           6.334000       10.540000        0.896000   \n",
       "max           7.804000       11.660000        0.983000   \n",
       "\n",
       "       healthy_life_expectancy  freedom_to_make_life_choices  generosity  \\\n",
       "count               137.000000                    137.000000  137.000000   \n",
       "mean                 64.967632                      0.787394    0.022431   \n",
       "std                   5.729210                      0.112371    0.141707   \n",
       "min                  51.530000                      0.382000   -0.254000   \n",
       "25%                  60.698000                      0.724000   -0.074000   \n",
       "50%                  65.825000                      0.801000    0.001000   \n",
       "75%                  69.350000                      0.874000    0.117000   \n",
       "max                  77.280000                      0.961000    0.531000   \n",
       "\n",
       "       perceptions_of_corruption        rank  \n",
       "count                 137.000000  137.000000  \n",
       "mean                    0.725401   68.978102  \n",
       "std                     0.176956   39.698212  \n",
       "min                     0.146000    1.000000  \n",
       "25%                     0.668000   35.000000  \n",
       "50%                     0.774000   69.000000  \n",
       "75%                     0.846000  103.000000  \n",
       "max                     0.929000  137.000000  "
      ]
     },
     "execution_count": 16,
     "metadata": {},
     "output_type": "execute_result"
    }
   ],
   "source": [
    "happy_df_2023.describe()"
   ]
  },
  {
   "cell_type": "markdown",
   "id": "36f7d1bd",
   "metadata": {},
   "source": [
    "## Data prep for regression analysis"
   ]
  },
  {
   "cell_type": "code",
   "execution_count": 17,
   "id": "d2fc1785",
   "metadata": {},
   "outputs": [
    {
     "data": {
      "image/png": "[encoded data removed]",
      "text/plain": [
       "<Figure size 640x480 with 1 Axes>"
      ]
     },
     "metadata": {},
     "output_type": "display_data"
    }
   ],
   "source": [
    "# Create a scatterplot using matplotlib for another look at how the chosen variables plot against each other.\n",
    "\n",
    "happy_df_2023.plot(x = 'happiness_score', y='gdp_per_capita',style='o') # The style option creates a scatterplot; without it, we only have lines.\n",
    "plt.title('Happiness Score vs GDP per Capita')  \n",
    "plt.xlabel('happiness_score')  \n",
    "plt.ylabel('gdp_per_capita')  \n",
    "plt.show()"
   ]
  },
  {
   "cell_type": "code",
   "execution_count": 19,
   "id": "44edaf31",
   "metadata": {},
   "outputs": [],
   "source": [
    "# Reshape the variables into NumPy arrays and put them into separate objects.\n",
    "\n",
    "X = happy_df_2023['happiness_score'].values.reshape(-1,1)\n",
    "y = happy_df_2023['gdp_per_capita'].values.reshape(-1,1)"
   ]
  },
  {
   "cell_type": "code",
   "execution_count": 20,
   "id": "cf972b83",
   "metadata": {},
   "outputs": [
    {
     "data": {
      "text/plain": [
       "array([[7.804],\n",
       "       [7.586],\n",
       "       [7.53 ],\n",
       "       [7.473],\n",
       "       [7.403],\n",
       "       [7.395],\n",
       "       [7.315],\n",
       "       [7.24 ],\n",
       "       [7.228],\n",
       "       [7.123],\n",
       "       [7.097],\n",
       "       [7.095],\n",
       "       [6.961],\n",
       "       [6.911],\n",
       "       [6.894],\n",
       "       [6.892],\n",
       "       [6.859],\n",
       "       [6.845],\n",
       "       [6.796],\n",
       "       [6.763],\n",
       "       [6.661],\n",
       "       [6.65 ],\n",
       "       [6.609],\n",
       "       [6.589],\n",
       "       [6.587],\n",
       "       [6.571],\n",
       "       [6.535],\n",
       "       [6.494],\n",
       "       [6.469],\n",
       "       [6.463],\n",
       "       [6.455],\n",
       "       [6.436],\n",
       "       [6.405],\n",
       "       [6.368],\n",
       "       [6.334],\n",
       "       [6.33 ],\n",
       "       [6.3  ],\n",
       "       [6.265],\n",
       "       [6.26 ],\n",
       "       [6.259],\n",
       "       [6.213],\n",
       "       [6.173],\n",
       "       [6.15 ],\n",
       "       [6.144],\n",
       "       [6.144],\n",
       "       [6.13 ],\n",
       "       [6.129],\n",
       "       [6.125],\n",
       "       [6.125],\n",
       "       [6.122],\n",
       "       [6.041],\n",
       "       [6.024],\n",
       "       [6.023],\n",
       "       [6.014],\n",
       "       [6.012],\n",
       "       [5.968],\n",
       "       [5.951],\n",
       "       [5.931],\n",
       "       [5.902],\n",
       "       [5.843],\n",
       "       [5.84 ],\n",
       "       [5.825],\n",
       "       [5.819],\n",
       "       [5.818],\n",
       "       [5.763],\n",
       "       [5.738],\n",
       "       [5.722],\n",
       "       [5.703],\n",
       "       [5.684],\n",
       "       [5.661],\n",
       "       [5.633],\n",
       "       [5.63 ],\n",
       "       [5.569],\n",
       "       [5.559],\n",
       "       [5.526],\n",
       "       [5.523],\n",
       "       [5.466],\n",
       "       [5.36 ],\n",
       "       [5.342],\n",
       "       [5.33 ],\n",
       "       [5.329],\n",
       "       [5.308],\n",
       "       [5.277],\n",
       "       [5.277],\n",
       "       [5.275],\n",
       "       [5.267],\n",
       "       [5.254],\n",
       "       [5.211],\n",
       "       [5.111],\n",
       "       [5.109],\n",
       "       [5.072],\n",
       "       [5.071],\n",
       "       [5.053],\n",
       "       [5.035],\n",
       "       [4.981],\n",
       "       [4.973],\n",
       "       [4.954],\n",
       "       [4.941],\n",
       "       [4.908],\n",
       "       [4.903],\n",
       "       [4.876],\n",
       "       [4.855],\n",
       "       [4.724],\n",
       "       [4.638],\n",
       "       [4.631],\n",
       "       [4.614],\n",
       "       [4.605],\n",
       "       [4.555],\n",
       "       [4.501],\n",
       "       [4.497],\n",
       "       [4.487],\n",
       "       [4.442],\n",
       "       [4.432],\n",
       "       [4.397],\n",
       "       [4.393],\n",
       "       [4.374],\n",
       "       [4.372],\n",
       "       [4.282],\n",
       "       [4.279],\n",
       "       [4.198],\n",
       "       [4.17 ],\n",
       "       [4.137],\n",
       "       [4.12 ],\n",
       "       [4.091],\n",
       "       [4.042],\n",
       "       [4.036],\n",
       "       [4.019],\n",
       "       [3.982],\n",
       "       [3.694],\n",
       "       [3.545],\n",
       "       [3.495],\n",
       "       [3.435],\n",
       "       [3.207],\n",
       "       [3.204],\n",
       "       [3.138],\n",
       "       [2.392],\n",
       "       [1.859]])"
      ]
     },
     "execution_count": 20,
     "metadata": {},
     "output_type": "execute_result"
    }
   ],
   "source": [
    "X"
   ]
  },
  {
   "cell_type": "code",
   "execution_count": 21,
   "id": "eb2ec706",
   "metadata": {},
   "outputs": [
    {
     "data": {
      "text/plain": [
       "array([[10.792],\n",
       "       [10.962],\n",
       "       [10.896],\n",
       "       [10.639],\n",
       "       [10.942],\n",
       "       [10.883],\n",
       "       [11.088],\n",
       "       [11.164],\n",
       "       [11.66 ],\n",
       "       [10.662],\n",
       "       [10.899],\n",
       "       [10.821],\n",
       "       [10.773],\n",
       "       [11.527],\n",
       "       [11.048],\n",
       "       [10.879],\n",
       "       [10.844],\n",
       "       [10.611],\n",
       "       [10.704],\n",
       "       [10.568],\n",
       "       [10.701],\n",
       "       [10.588],\n",
       "       [ 9.952],\n",
       "       [10.339],\n",
       "       [11.571],\n",
       "       [11.145],\n",
       "       [10.797],\n",
       "       [10.037],\n",
       "       [10.353],\n",
       "       [10.715],\n",
       "       [10.541],\n",
       "       [10.54 ],\n",
       "       [10.634],\n",
       "       [ 9.359],\n",
       "       [10.114],\n",
       "       [ 9.85 ],\n",
       "       [10.661],\n",
       "       [10.305],\n",
       "       [10.453],\n",
       "       [ 8.618],\n",
       "       [10.37 ],\n",
       "       [10.776],\n",
       "       [ 9.116],\n",
       "       [10.166],\n",
       "       [ 9.854],\n",
       "       [10.611],\n",
       "       [10.616],\n",
       "       [10.341],\n",
       "       [ 9.582],\n",
       "       [ 9.089],\n",
       "       [10.419],\n",
       "       [ 9.959],\n",
       "       [ 8.635],\n",
       "       [ 8.948],\n",
       "       [10.169],\n",
       "       [10.429],\n",
       "       [10.693],\n",
       "       [10.288],\n",
       "       [ 9.957],\n",
       "       [ 9.751],\n",
       "       [ 9.372],\n",
       "       [ 8.486],\n",
       "       [ 9.499],\n",
       "       [ 9.738],\n",
       "       [ 9.287],\n",
       "       [ 9.51 ],\n",
       "       [ 9.813],\n",
       "       [ 9.165],\n",
       "       [ 8.985],\n",
       "       [10.21 ],\n",
       "       [ 9.616],\n",
       "       [ 9.584],\n",
       "       [ 9.811],\n",
       "       [ 9.27 ],\n",
       "       [ 9.402],\n",
       "       [ 8.979],\n",
       "       [10.087],\n",
       "       [ 8.256],\n",
       "       [ 9.615],\n",
       "       [ 8.237],\n",
       "       [ 9.3  ],\n",
       "       [10.966],\n",
       "       [ 9.567],\n",
       "       [ 9.385],\n",
       "       [ 9.478],\n",
       "       [ 8.095],\n",
       "       [ 9.703],\n",
       "       [ 5.527],\n",
       "       [ 8.962],\n",
       "       [ 9.646],\n",
       "       [ 7.88 ],\n",
       "       [ 9.314],\n",
       "       [ 8.576],\n",
       "       [ 9.537],\n",
       "       [ 8.496],\n",
       "       [ 8.217],\n",
       "       [ 7.116],\n",
       "       [ 9.098],\n",
       "       [ 8.716],\n",
       "       [ 8.973],\n",
       "       [ 9.61 ],\n",
       "       [ 8.155],\n",
       "       [ 8.591],\n",
       "       [ 7.667],\n",
       "       [ 9.121],\n",
       "       [10.307],\n",
       "       [ 8.596],\n",
       "       [ 8.54 ],\n",
       "       [ 7.091],\n",
       "       [ 9.244],\n",
       "       [ 8.458],\n",
       "       [ 9.491],\n",
       "       [ 7.716],\n",
       "       [ 7.261],\n",
       "       [ 8.385],\n",
       "       [ 8.103],\n",
       "       [ 8.404],\n",
       "       [ 8.685],\n",
       "       [ 7.648],\n",
       "       [ 7.655],\n",
       "       [ 9.367],\n",
       "       [ 7.673],\n",
       "       [ 9.13 ],\n",
       "       [ 7.739],\n",
       "       [ 7.277],\n",
       "       [ 8.759],\n",
       "       [ 7.29 ],\n",
       "       [ 8.074],\n",
       "       [ 7.857],\n",
       "       [ 8.075],\n",
       "       [ 7.302],\n",
       "       [ 9.629],\n",
       "       [ 7.007],\n",
       "       [ 7.641],\n",
       "       [ 7.394],\n",
       "       [ 9.478],\n",
       "       [ 7.324]])"
      ]
     },
     "execution_count": 21,
     "metadata": {},
     "output_type": "execute_result"
    }
   ],
   "source": [
    "y"
   ]
  },
  {
   "cell_type": "code",
   "execution_count": 22,
   "id": "08039770",
   "metadata": {},
   "outputs": [],
   "source": [
    "# Split data into a training set and a test set.\n",
    "\n",
    "X_train, X_test, y_train, y_test = train_test_split(X, y, test_size=0.3, random_state=0)"
   ]
  },
  {
   "cell_type": "markdown",
   "id": "13cf60d5",
   "metadata": {},
   "source": [
    "## Regression analysis"
   ]
  },
  {
   "cell_type": "code",
   "execution_count": 23,
   "id": "df5ed5fa",
   "metadata": {},
   "outputs": [],
   "source": [
    "# Create a regression object.\n",
    "\n",
    "regression = LinearRegression()  # This is the regression object, which will be fit onto the training set."
   ]
  },
  {
   "cell_type": "code",
   "execution_count": 24,
   "id": "ce32c168",
   "metadata": {},
   "outputs": [
    {
     "data": {
      "text/html": [
       "<style>#sk-container-id-1 {color: black;}#sk-container-id-1 pre{padding: 0;}#sk-container-id-1 div.sk-toggleable {background-color: white;}#sk-container-id-1 label.sk-toggleable__label {cursor: pointer;display: block;width: 100%;margin-bottom: 0;padding: 0.3em;box-sizing: border-box;text-align: center;}#sk-container-id-1 label.sk-toggleable__label-arrow:before {content: \"▸\";float: left;margin-right: 0.25em;color: #696969;}#sk-container-id-1 label.sk-toggleable__label-arrow:hover:before {color: black;}#sk-container-id-1 div.sk-estimator:hover label.sk-toggleable__label-arrow:before {color: black;}#sk-container-id-1 div.sk-toggleable__content {max-height: 0;max-width: 0;overflow: hidden;text-align: left;background-color: #f0f8ff;}#sk-container-id-1 div.sk-toggleable__content pre {margin: 0.2em;color: black;border-radius: 0.25em;background-color: #f0f8ff;}#sk-container-id-1 input.sk-toggleable__control:checked~div.sk-toggleable__content {max-height: 200px;max-width: 100%;overflow: auto;}#sk-container-id-1 input.sk-toggleable__control:checked~label.sk-toggleable__label-arrow:before {content: \"▾\";}#sk-container-id-1 div.sk-estimator input.sk-toggleable__control:checked~label.sk-toggleable__label {background-color: #d4ebff;}#sk-container-id-1 div.sk-label input.sk-toggleable__control:checked~label.sk-toggleable__label {background-color: #d4ebff;}#sk-container-id-1 input.sk-hidden--visually {border: 0;clip: rect(1px 1px 1px 1px);clip: rect(1px, 1px, 1px, 1px);height: 1px;margin: -1px;overflow: hidden;padding: 0;position: absolute;width: 1px;}#sk-container-id-1 div.sk-estimator {font-family: monospace;background-color: #f0f8ff;border: 1px dotted black;border-radius: 0.25em;box-sizing: border-box;margin-bottom: 0.5em;}#sk-container-id-1 div.sk-estimator:hover {background-color: #d4ebff;}#sk-container-id-1 div.sk-parallel-item::after {content: \"\";width: 100%;border-bottom: 1px solid gray;flex-grow: 1;}#sk-container-id-1 div.sk-label:hover label.sk-toggleable__label {background-color: #d4ebff;}#sk-container-id-1 div.sk-serial::before {content: \"\";position: absolute;border-left: 1px solid gray;box-sizing: border-box;top: 0;bottom: 0;left: 50%;z-index: 0;}#sk-container-id-1 div.sk-serial {display: flex;flex-direction: column;align-items: center;background-color: white;padding-right: 0.2em;padding-left: 0.2em;position: relative;}#sk-container-id-1 div.sk-item {position: relative;z-index: 1;}#sk-container-id-1 div.sk-parallel {display: flex;align-items: stretch;justify-content: center;background-color: white;position: relative;}#sk-container-id-1 div.sk-item::before, #sk-container-id-1 div.sk-parallel-item::before {content: \"\";position: absolute;border-left: 1px solid gray;box-sizing: border-box;top: 0;bottom: 0;left: 50%;z-index: -1;}#sk-container-id-1 div.sk-parallel-item {display: flex;flex-direction: column;z-index: 1;position: relative;background-color: white;}#sk-container-id-1 div.sk-parallel-item:first-child::after {align-self: flex-end;width: 50%;}#sk-container-id-1 div.sk-parallel-item:last-child::after {align-self: flex-start;width: 50%;}#sk-container-id-1 div.sk-parallel-item:only-child::after {width: 0;}#sk-container-id-1 div.sk-dashed-wrapped {border: 1px dashed gray;margin: 0 0.4em 0.5em 0.4em;box-sizing: border-box;padding-bottom: 0.4em;background-color: white;}#sk-container-id-1 div.sk-label label {font-family: monospace;font-weight: bold;display: inline-block;line-height: 1.2em;}#sk-container-id-1 div.sk-label-container {text-align: center;}#sk-container-id-1 div.sk-container {/* jupyter's `normalize.less` sets `[hidden] { display: none; }` but bootstrap.min.css set `[hidden] { display: none !important; }` so we also need the `!important` here to be able to override the default hidden behavior on the sphinx rendered scikit-learn.org. See: https://github.com/scikit-learn/scikit-learn/issues/21755 */display: inline-block !important;position: relative;}#sk-container-id-1 div.sk-text-repr-fallback {display: none;}</style><div id=\"sk-container-id-1\" class=\"sk-top-container\"><div class=\"sk-text-repr-fallback\"><pre>LinearRegression()</pre><b>In a Jupyter environment, please rerun this cell to show the HTML representation or trust the notebook. <br />On GitHub, the HTML representation is unable to render, please try loading this page with nbviewer.org.</b></div><div class=\"sk-container\" hidden><div class=\"sk-item\"><div class=\"sk-estimator sk-toggleable\"><input class=\"sk-toggleable__control sk-hidden--visually\" id=\"sk-estimator-id-1\" type=\"checkbox\" checked><label for=\"sk-estimator-id-1\" class=\"sk-toggleable__label sk-toggleable__label-arrow\">LinearRegression</label><div class=\"sk-toggleable__content\"><pre>LinearRegression()</pre></div></div></div></div></div>"
      ],
      "text/plain": [
       "LinearRegression()"
      ]
     },
     "execution_count": 24,
     "metadata": {},
     "output_type": "execute_result"
    }
   ],
   "source": [
    "# Fit the regression object onto the training set.\n",
    "\n",
    "regression.fit(X_train, y_train)"
   ]
  },
  {
   "cell_type": "code",
   "execution_count": 25,
   "id": "7950e8ea",
   "metadata": {},
   "outputs": [],
   "source": [
    "# Predict the values of y using X.\n",
    "\n",
    "y_predicted = regression.predict(X_test)"
   ]
  },
  {
   "cell_type": "code",
   "execution_count": 26,
   "id": "31c06413",
   "metadata": {},
   "outputs": [
    {
     "data": {
      "image/png": "[encoded data removed]",
      "text/plain": [
       "<Figure size 640x480 with 1 Axes>"
      ]
     },
     "metadata": {},
     "output_type": "display_data"
    }
   ],
   "source": [
    "# Create a plot that shows the regression line from the model on the test set.\n",
    "\n",
    "plot_test = plt\n",
    "plot_test.scatter(X_test, y_test, color='gray', s = 15)\n",
    "plot_test.plot(X_test, y_predicted, color='red', linewidth =3)\n",
    "plot_test.title('Happiness Score vs GDP per Capita (Test set)')\n",
    "plot_test.xlabel('Happiness Score')\n",
    "plot_test.ylabel('GDP per Capita')\n",
    "plot_test.show()"
   ]
  },
  {
   "cell_type": "code",
   "execution_count": 27,
   "id": "fa10d814",
   "metadata": {},
   "outputs": [],
   "source": [
    "# Create objects that contain the model summary statistics.\n",
    "\n",
    "rmse = mean_squared_error(y_test, y_predicted) # This is the mean squared error\n",
    "r2 = r2_score(y_test, y_predicted) # This is the R2 score."
   ]
  },
  {
   "cell_type": "code",
   "execution_count": 28,
   "id": "9d7a1286",
   "metadata": {},
   "outputs": [
    {
     "name": "stdout",
     "output_type": "stream",
     "text": [
      "Slope: [[0.79810619]]\n",
      "Mean squared error:  0.4180005898738378\n",
      "R2 score:  0.6694092588010618\n"
     ]
    }
   ],
   "source": [
    "# Print the model summary statistics. This is where you evaluate the performance of the model.\n",
    "\n",
    "print('Slope:' ,regression.coef_)\n",
    "print('Mean squared error: ', rmse)\n",
    "print('R2 score: ', r2)"
   ]
  },
  {
   "cell_type": "code",
   "execution_count": 29,
   "id": "8c9df597",
   "metadata": {},
   "outputs": [
    {
     "data": {
      "text/plain": [
       "array([[10.21757417],\n",
       "       [10.77066176],\n",
       "       [ 9.19520013],\n",
       "       [ 9.26543348],\n",
       "       [ 9.90551465],\n",
       "       [ 9.20557552],\n",
       "       [10.27663402],\n",
       "       [ 9.82330971],\n",
       "       [ 9.89434116],\n",
       "       [10.25907569],\n",
       "       [ 9.66528468],\n",
       "       [ 8.51122313],\n",
       "       [ 9.80016463],\n",
       "       [10.18485181],\n",
       "       [ 9.64613013],\n",
       "       [ 8.49286669],\n",
       "       [ 8.5080307 ],\n",
       "       [ 8.29014771],\n",
       "       [ 8.69797998],\n",
       "       [ 9.21196036],\n",
       "       [ 9.66289036],\n",
       "       [10.42587988],\n",
       "       [ 9.03478079],\n",
       "       [10.08429043],\n",
       "       [ 8.97731714],\n",
       "       [ 9.89035063],\n",
       "       [10.78023903],\n",
       "       [10.47616057],\n",
       "       [ 7.95015447],\n",
       "       [10.66610985],\n",
       "       [11.01168983],\n",
       "       [ 9.8097419 ],\n",
       "       [ 8.87675576],\n",
       "       [ 8.49127047],\n",
       "       [10.15372567],\n",
       "       [ 8.9453929 ],\n",
       "       [ 9.43862252],\n",
       "       [ 9.49528806],\n",
       "       [ 9.90551465],\n",
       "       [ 8.59422617],\n",
       "       [ 7.74344497],\n",
       "       [10.51766209]])"
      ]
     },
     "execution_count": 29,
     "metadata": {},
     "output_type": "execute_result"
    }
   ],
   "source": [
    "y_predicted"
   ]
  },
  {
   "cell_type": "code",
   "execution_count": 30,
   "id": "2b4576cd",
   "metadata": {},
   "outputs": [
    {
     "data": {
      "text/html": [
       "<div>\n",
       "<style scoped>\n",
       "    .dataframe tbody tr th:only-of-type {\n",
       "        vertical-align: middle;\n",
       "    }\n",
       "\n",
       "    .dataframe tbody tr th {\n",
       "        vertical-align: top;\n",
       "    }\n",
       "\n",
       "    .dataframe thead th {\n",
       "        text-align: right;\n",
       "    }\n",
       "</style>\n",
       "<table border=\"1\" class=\"dataframe\">\n",
       "  <thead>\n",
       "    <tr style=\"text-align: right;\">\n",
       "      <th></th>\n",
       "      <th>Actual</th>\n",
       "      <th>Predicted</th>\n",
       "    </tr>\n",
       "  </thead>\n",
       "  <tbody>\n",
       "    <tr>\n",
       "      <th>0</th>\n",
       "      <td>10.797</td>\n",
       "      <td>10.217574</td>\n",
       "    </tr>\n",
       "    <tr>\n",
       "      <th>1</th>\n",
       "      <td>11.660</td>\n",
       "      <td>10.770662</td>\n",
       "    </tr>\n",
       "    <tr>\n",
       "      <th>2</th>\n",
       "      <td>9.703</td>\n",
       "      <td>9.195200</td>\n",
       "    </tr>\n",
       "    <tr>\n",
       "      <th>3</th>\n",
       "      <td>9.615</td>\n",
       "      <td>9.265433</td>\n",
       "    </tr>\n",
       "    <tr>\n",
       "      <th>4</th>\n",
       "      <td>10.166</td>\n",
       "      <td>9.905515</td>\n",
       "    </tr>\n",
       "    <tr>\n",
       "      <th>5</th>\n",
       "      <td>8.095</td>\n",
       "      <td>9.205576</td>\n",
       "    </tr>\n",
       "    <tr>\n",
       "      <th>6</th>\n",
       "      <td>9.952</td>\n",
       "      <td>10.276634</td>\n",
       "    </tr>\n",
       "    <tr>\n",
       "      <th>7</th>\n",
       "      <td>10.419</td>\n",
       "      <td>9.823310</td>\n",
       "    </tr>\n",
       "    <tr>\n",
       "      <th>8</th>\n",
       "      <td>10.611</td>\n",
       "      <td>9.894341</td>\n",
       "    </tr>\n",
       "    <tr>\n",
       "      <th>9</th>\n",
       "      <td>11.571</td>\n",
       "      <td>10.259076</td>\n",
       "    </tr>\n",
       "    <tr>\n",
       "      <th>10</th>\n",
       "      <td>9.751</td>\n",
       "      <td>9.665285</td>\n",
       "    </tr>\n",
       "    <tr>\n",
       "      <th>11</th>\n",
       "      <td>7.261</td>\n",
       "      <td>8.511223</td>\n",
       "    </tr>\n",
       "    <tr>\n",
       "      <th>12</th>\n",
       "      <td>10.169</td>\n",
       "      <td>9.800165</td>\n",
       "    </tr>\n",
       "    <tr>\n",
       "      <th>13</th>\n",
       "      <td>10.037</td>\n",
       "      <td>10.184852</td>\n",
       "    </tr>\n",
       "    <tr>\n",
       "      <th>14</th>\n",
       "      <td>9.499</td>\n",
       "      <td>9.646130</td>\n",
       "    </tr>\n",
       "    <tr>\n",
       "      <th>15</th>\n",
       "      <td>8.103</td>\n",
       "      <td>8.492867</td>\n",
       "    </tr>\n",
       "    <tr>\n",
       "      <th>16</th>\n",
       "      <td>8.385</td>\n",
       "      <td>8.508031</td>\n",
       "    </tr>\n",
       "    <tr>\n",
       "      <th>17</th>\n",
       "      <td>9.130</td>\n",
       "      <td>8.290148</td>\n",
       "    </tr>\n",
       "    <tr>\n",
       "      <th>18</th>\n",
       "      <td>9.121</td>\n",
       "      <td>8.697980</td>\n",
       "    </tr>\n",
       "    <tr>\n",
       "      <th>19</th>\n",
       "      <td>9.478</td>\n",
       "      <td>9.211960</td>\n",
       "    </tr>\n",
       "    <tr>\n",
       "      <th>20</th>\n",
       "      <td>9.372</td>\n",
       "      <td>9.662890</td>\n",
       "    </tr>\n",
       "    <tr>\n",
       "      <th>21</th>\n",
       "      <td>10.704</td>\n",
       "      <td>10.425880</td>\n",
       "    </tr>\n",
       "    <tr>\n",
       "      <th>22</th>\n",
       "      <td>8.576</td>\n",
       "      <td>9.034781</td>\n",
       "    </tr>\n",
       "    <tr>\n",
       "      <th>23</th>\n",
       "      <td>9.359</td>\n",
       "      <td>10.084290</td>\n",
       "    </tr>\n",
       "    <tr>\n",
       "      <th>24</th>\n",
       "      <td>8.496</td>\n",
       "      <td>8.977317</td>\n",
       "    </tr>\n",
       "    <tr>\n",
       "      <th>25</th>\n",
       "      <td>9.582</td>\n",
       "      <td>9.890351</td>\n",
       "    </tr>\n",
       "    <tr>\n",
       "      <th>26</th>\n",
       "      <td>11.164</td>\n",
       "      <td>10.780239</td>\n",
       "    </tr>\n",
       "    <tr>\n",
       "      <th>27</th>\n",
       "      <td>10.844</td>\n",
       "      <td>10.476161</td>\n",
       "    </tr>\n",
       "    <tr>\n",
       "      <th>28</th>\n",
       "      <td>7.857</td>\n",
       "      <td>7.950154</td>\n",
       "    </tr>\n",
       "    <tr>\n",
       "      <th>29</th>\n",
       "      <td>10.899</td>\n",
       "      <td>10.666110</td>\n",
       "    </tr>\n",
       "  </tbody>\n",
       "</table>\n",
       "</div>"
      ],
      "text/plain": [
       "    Actual  Predicted\n",
       "0   10.797  10.217574\n",
       "1   11.660  10.770662\n",
       "2    9.703   9.195200\n",
       "3    9.615   9.265433\n",
       "4   10.166   9.905515\n",
       "5    8.095   9.205576\n",
       "6    9.952  10.276634\n",
       "7   10.419   9.823310\n",
       "8   10.611   9.894341\n",
       "9   11.571  10.259076\n",
       "10   9.751   9.665285\n",
       "11   7.261   8.511223\n",
       "12  10.169   9.800165\n",
       "13  10.037  10.184852\n",
       "14   9.499   9.646130\n",
       "15   8.103   8.492867\n",
       "16   8.385   8.508031\n",
       "17   9.130   8.290148\n",
       "18   9.121   8.697980\n",
       "19   9.478   9.211960\n",
       "20   9.372   9.662890\n",
       "21  10.704  10.425880\n",
       "22   8.576   9.034781\n",
       "23   9.359  10.084290\n",
       "24   8.496   8.977317\n",
       "25   9.582   9.890351\n",
       "26  11.164  10.780239\n",
       "27  10.844  10.476161\n",
       "28   7.857   7.950154\n",
       "29  10.899  10.666110"
      ]
     },
     "execution_count": 30,
     "metadata": {},
     "output_type": "execute_result"
    }
   ],
   "source": [
    "# Create a dataframe comparing the actual and predicted values of y.\n",
    "\n",
    "data = pd.DataFrame({'Actual': y_test.flatten(), 'Predicted': y_predicted.flatten()})\n",
    "data.head(30)"
   ]
  },
  {
   "cell_type": "code",
   "execution_count": 31,
   "id": "850d4058",
   "metadata": {},
   "outputs": [],
   "source": [
    "# Predict.\n",
    "\n",
    "y_predicted_train = regression.predict(X_train) # This is predicting X_train!"
   ]
  },
  {
   "cell_type": "code",
   "execution_count": 32,
   "id": "b7f355de",
   "metadata": {},
   "outputs": [],
   "source": [
    "rmse = mean_squared_error(y_train, y_predicted_train)\n",
    "r2 = r2_score(y_train, y_predicted_train)"
   ]
  },
  {
   "cell_type": "code",
   "execution_count": 33,
   "id": "ea7a65e2",
   "metadata": {},
   "outputs": [
    {
     "name": "stdout",
     "output_type": "stream",
     "text": [
      "Slope: [[0.79810619]]\n",
      "Mean squared error:  0.6210638279731154\n",
      "R2 score:  0.5879761350446051\n"
     ]
    }
   ],
   "source": [
    "print('Slope:' ,regression.coef_)\n",
    "print('Mean squared error: ', rmse)\n",
    "print('R2 score: ', r2)"
   ]
  },
  {
   "cell_type": "code",
   "execution_count": 34,
   "id": "7508e001",
   "metadata": {},
   "outputs": [
    {
     "data": {
      "image/png": "[encoded data removed]",
      "text/plain": [
       "<Figure size 640x480 with 1 Axes>"
      ]
     },
     "metadata": {},
     "output_type": "display_data"
    }
   ],
   "source": [
    "# Visualizing the training set results.\n",
    "\n",
    "plot_test = plt\n",
    "plot_test.scatter(X_train, y_train, color='green', s = 15)\n",
    "plot_test.plot(X_train, y_predicted_train, color='red', linewidth =3)\n",
    "plot_test.title('Happiness Score vs GDP  (Train set)')\n",
    "plot_test.xlabel('Hapiness Score')\n",
    "plot_test.ylabel('GDP per Capita')\n",
    "plot_test.show()"
   ]
  },
  {
   "cell_type": "markdown",
   "id": "e67d1843",
   "metadata": {},
   "source": [
    "From the analysis and the strong positive correlation observed between GDP and Happiness Score, it can be inferred that the economic performance of a country, as measured by its Gross Domestic Product (GDP) per capita, is a significant predictor of the happiness of its citizens.\n",
    "\n",
    "In practical terms, this suggests that countries with higher GDP per capita tend to report higher levels of happiness. The possible explanation for this could be that in countries with higher GDP per capita, citizens generally have better access to resources, opportunities, and services - including healthcare, education, and quality goods, which can contribute to overall well-being and satisfaction with life."
   ]
  },
  {
   "cell_type": "code",
   "execution_count": null,
   "id": "a83920bc",
   "metadata": {},
   "outputs": [],
   "source": []
  }
 ],
 "metadata": {
  "kernelspec": {
   "display_name": "Python 3 (ipykernel)",
   "language": "python",
   "name": "python3"
  },
  "language_info": {
   "codemirror_mode": {
    "name": "ipython",
    "version": 3
   },
   "file_extension": ".py",
   "mimetype": "text/x-python",
   "name": "python",
   "nbconvert_exporter": "python",
   "pygments_lexer": "ipython3",
   "version": "3.10.9"
  }
 },
 "nbformat": 4,
 "nbformat_minor": 5
}
