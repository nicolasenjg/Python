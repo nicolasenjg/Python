{
 "cells": [
  {
   "cell_type": "markdown",
   "id": "4f23e252",
   "metadata": {},
   "source": [
    "# 4.10 Coding Etiquette"
   ]
  },
  {
   "cell_type": "markdown",
   "id": "4986ec2d",
   "metadata": {},
   "source": [
    "## Part 1"
   ]
  },
  {
   "cell_type": "code",
   "execution_count": 1,
   "id": "e3483d99",
   "metadata": {},
   "outputs": [],
   "source": [
    "# Import libraries\n",
    "\n",
    "import pandas as pd\n",
    "import numpy as np\n",
    "import os\n",
    "import matplotlib.pyplot as plt\n",
    "import seaborn as sns\n",
    "import scipy"
   ]
  },
  {
   "cell_type": "code",
   "execution_count": 2,
   "id": "eb3c43ad",
   "metadata": {},
   "outputs": [],
   "source": [
    "path=r'C:\\Users\\Nico\\Desktop\\Curso Data Analytics\\Module 4\\Instacart Basket Analysis'"
   ]
  },
  {
   "cell_type": "code",
   "execution_count": 4,
   "id": "05569707",
   "metadata": {},
   "outputs": [],
   "source": [
    "merge_clean = pd.read_pickle(os.path.join(path,'02 Data', 'Prepared Data', 'merged_cleaned.pkl'))"
   ]
  },
  {
   "cell_type": "code",
   "execution_count": 45,
   "id": "7d327cda",
   "metadata": {},
   "outputs": [],
   "source": [
    "departments =pd.read_csv(os.path.join(path, '02 Data', 'Prepared Data', 'departments_wrangled.csv'))"
   ]
  },
  {
   "cell_type": "code",
   "execution_count": 5,
   "id": "a0442fce",
   "metadata": {},
   "outputs": [
    {
     "data": {
      "text/html": [
       "<div>\n",
       "<style scoped>\n",
       "    .dataframe tbody tr th:only-of-type {\n",
       "        vertical-align: middle;\n",
       "    }\n",
       "\n",
       "    .dataframe tbody tr th {\n",
       "        vertical-align: top;\n",
       "    }\n",
       "\n",
       "    .dataframe thead th {\n",
       "        text-align: right;\n",
       "    }\n",
       "</style>\n",
       "<table border=\"1\" class=\"dataframe\">\n",
       "  <thead>\n",
       "    <tr style=\"text-align: right;\">\n",
       "      <th></th>\n",
       "      <th>user_id</th>\n",
       "      <th>First Name</th>\n",
       "      <th>Last Name</th>\n",
       "      <th>Gender</th>\n",
       "      <th>state</th>\n",
       "      <th>Age</th>\n",
       "      <th>date_joined</th>\n",
       "      <th>n_dependants</th>\n",
       "      <th>fam_status</th>\n",
       "      <th>income</th>\n",
       "      <th>...</th>\n",
       "      <th>busiest_day</th>\n",
       "      <th>Busiest Days</th>\n",
       "      <th>busiest_period_of_day</th>\n",
       "      <th>max_order</th>\n",
       "      <th>loyalty_flag</th>\n",
       "      <th>avg_price</th>\n",
       "      <th>spending_flag</th>\n",
       "      <th>Frecuency</th>\n",
       "      <th>ord_freq_flag</th>\n",
       "      <th>_merge</th>\n",
       "    </tr>\n",
       "  </thead>\n",
       "  <tbody>\n",
       "    <tr>\n",
       "      <th>0</th>\n",
       "      <td>26711.0</td>\n",
       "      <td>Deborah</td>\n",
       "      <td>Esquivel</td>\n",
       "      <td>Female</td>\n",
       "      <td>Missouri</td>\n",
       "      <td>48</td>\n",
       "      <td>1/1/2017</td>\n",
       "      <td>3</td>\n",
       "      <td>married</td>\n",
       "      <td>165665</td>\n",
       "      <td>...</td>\n",
       "      <td>Regular busy</td>\n",
       "      <td>Busiest day</td>\n",
       "      <td>Most orders</td>\n",
       "      <td>8.0</td>\n",
       "      <td>New customer</td>\n",
       "      <td>7.988889</td>\n",
       "      <td>Low spender</td>\n",
       "      <td>19.823529</td>\n",
       "      <td>Regular customer</td>\n",
       "      <td>both</td>\n",
       "    </tr>\n",
       "    <tr>\n",
       "      <th>1</th>\n",
       "      <td>26711.0</td>\n",
       "      <td>Deborah</td>\n",
       "      <td>Esquivel</td>\n",
       "      <td>Female</td>\n",
       "      <td>Missouri</td>\n",
       "      <td>48</td>\n",
       "      <td>1/1/2017</td>\n",
       "      <td>3</td>\n",
       "      <td>married</td>\n",
       "      <td>165665</td>\n",
       "      <td>...</td>\n",
       "      <td>Regular busy</td>\n",
       "      <td>Regular busy</td>\n",
       "      <td>Most orders</td>\n",
       "      <td>8.0</td>\n",
       "      <td>New customer</td>\n",
       "      <td>7.988889</td>\n",
       "      <td>Low spender</td>\n",
       "      <td>19.823529</td>\n",
       "      <td>Regular customer</td>\n",
       "      <td>both</td>\n",
       "    </tr>\n",
       "    <tr>\n",
       "      <th>2</th>\n",
       "      <td>26711.0</td>\n",
       "      <td>Deborah</td>\n",
       "      <td>Esquivel</td>\n",
       "      <td>Female</td>\n",
       "      <td>Missouri</td>\n",
       "      <td>48</td>\n",
       "      <td>1/1/2017</td>\n",
       "      <td>3</td>\n",
       "      <td>married</td>\n",
       "      <td>165665</td>\n",
       "      <td>...</td>\n",
       "      <td>Regular busy</td>\n",
       "      <td>Busiest day</td>\n",
       "      <td>Most orders</td>\n",
       "      <td>8.0</td>\n",
       "      <td>New customer</td>\n",
       "      <td>7.988889</td>\n",
       "      <td>Low spender</td>\n",
       "      <td>19.823529</td>\n",
       "      <td>Regular customer</td>\n",
       "      <td>both</td>\n",
       "    </tr>\n",
       "    <tr>\n",
       "      <th>3</th>\n",
       "      <td>26711.0</td>\n",
       "      <td>Deborah</td>\n",
       "      <td>Esquivel</td>\n",
       "      <td>Female</td>\n",
       "      <td>Missouri</td>\n",
       "      <td>48</td>\n",
       "      <td>1/1/2017</td>\n",
       "      <td>3</td>\n",
       "      <td>married</td>\n",
       "      <td>165665</td>\n",
       "      <td>...</td>\n",
       "      <td>Regular busy</td>\n",
       "      <td>Regular busy</td>\n",
       "      <td>Most orders</td>\n",
       "      <td>8.0</td>\n",
       "      <td>New customer</td>\n",
       "      <td>7.988889</td>\n",
       "      <td>Low spender</td>\n",
       "      <td>19.823529</td>\n",
       "      <td>Regular customer</td>\n",
       "      <td>both</td>\n",
       "    </tr>\n",
       "    <tr>\n",
       "      <th>4</th>\n",
       "      <td>26711.0</td>\n",
       "      <td>Deborah</td>\n",
       "      <td>Esquivel</td>\n",
       "      <td>Female</td>\n",
       "      <td>Missouri</td>\n",
       "      <td>48</td>\n",
       "      <td>1/1/2017</td>\n",
       "      <td>3</td>\n",
       "      <td>married</td>\n",
       "      <td>165665</td>\n",
       "      <td>...</td>\n",
       "      <td>Regular busy</td>\n",
       "      <td>Slowest day</td>\n",
       "      <td>Most orders</td>\n",
       "      <td>8.0</td>\n",
       "      <td>New customer</td>\n",
       "      <td>7.988889</td>\n",
       "      <td>Low spender</td>\n",
       "      <td>19.823529</td>\n",
       "      <td>Regular customer</td>\n",
       "      <td>both</td>\n",
       "    </tr>\n",
       "  </tbody>\n",
       "</table>\n",
       "<p>5 rows × 33 columns</p>\n",
       "</div>"
      ],
      "text/plain": [
       "   user_id First Name Last Name  Gender     state  Age date_joined  \\\n",
       "0  26711.0    Deborah  Esquivel  Female  Missouri   48    1/1/2017   \n",
       "1  26711.0    Deborah  Esquivel  Female  Missouri   48    1/1/2017   \n",
       "2  26711.0    Deborah  Esquivel  Female  Missouri   48    1/1/2017   \n",
       "3  26711.0    Deborah  Esquivel  Female  Missouri   48    1/1/2017   \n",
       "4  26711.0    Deborah  Esquivel  Female  Missouri   48    1/1/2017   \n",
       "\n",
       "   n_dependants fam_status  income  ...   busiest_day  Busiest Days  \\\n",
       "0             3    married  165665  ...  Regular busy   Busiest day   \n",
       "1             3    married  165665  ...  Regular busy  Regular busy   \n",
       "2             3    married  165665  ...  Regular busy   Busiest day   \n",
       "3             3    married  165665  ...  Regular busy  Regular busy   \n",
       "4             3    married  165665  ...  Regular busy   Slowest day   \n",
       "\n",
       "   busiest_period_of_day  max_order  loyalty_flag  avg_price  spending_flag  \\\n",
       "0            Most orders        8.0  New customer   7.988889    Low spender   \n",
       "1            Most orders        8.0  New customer   7.988889    Low spender   \n",
       "2            Most orders        8.0  New customer   7.988889    Low spender   \n",
       "3            Most orders        8.0  New customer   7.988889    Low spender   \n",
       "4            Most orders        8.0  New customer   7.988889    Low spender   \n",
       "\n",
       "   Frecuency     ord_freq_flag  _merge  \n",
       "0  19.823529  Regular customer    both  \n",
       "1  19.823529  Regular customer    both  \n",
       "2  19.823529  Regular customer    both  \n",
       "3  19.823529  Regular customer    both  \n",
       "4  19.823529  Regular customer    both  \n",
       "\n",
       "[5 rows x 33 columns]"
      ]
     },
     "execution_count": 5,
     "metadata": {},
     "output_type": "execute_result"
    }
   ],
   "source": [
    "merge_clean.head()"
   ]
  },
  {
   "cell_type": "code",
   "execution_count": 6,
   "id": "cd85114f",
   "metadata": {},
   "outputs": [],
   "source": [
    "# Due to PII data concerns we have to drop first_name and last_name nad also unnecesary columns like _merge\n",
    "merge_clean = merge_clean.drop(columns=['First Name', 'Last Name','_merge'] )"
   ]
  },
  {
   "cell_type": "code",
   "execution_count": 7,
   "id": "324c8b2c",
   "metadata": {},
   "outputs": [
    {
     "data": {
      "text/html": [
       "<div>\n",
       "<style scoped>\n",
       "    .dataframe tbody tr th:only-of-type {\n",
       "        vertical-align: middle;\n",
       "    }\n",
       "\n",
       "    .dataframe tbody tr th {\n",
       "        vertical-align: top;\n",
       "    }\n",
       "\n",
       "    .dataframe thead th {\n",
       "        text-align: right;\n",
       "    }\n",
       "</style>\n",
       "<table border=\"1\" class=\"dataframe\">\n",
       "  <thead>\n",
       "    <tr style=\"text-align: right;\">\n",
       "      <th></th>\n",
       "      <th>user_id</th>\n",
       "      <th>Gender</th>\n",
       "      <th>state</th>\n",
       "      <th>Age</th>\n",
       "      <th>date_joined</th>\n",
       "      <th>n_dependants</th>\n",
       "      <th>fam_status</th>\n",
       "      <th>income</th>\n",
       "      <th>order_id</th>\n",
       "      <th>order_number</th>\n",
       "      <th>...</th>\n",
       "      <th>price_range_loc</th>\n",
       "      <th>busiest_day</th>\n",
       "      <th>Busiest Days</th>\n",
       "      <th>busiest_period_of_day</th>\n",
       "      <th>max_order</th>\n",
       "      <th>loyalty_flag</th>\n",
       "      <th>avg_price</th>\n",
       "      <th>spending_flag</th>\n",
       "      <th>Frecuency</th>\n",
       "      <th>ord_freq_flag</th>\n",
       "    </tr>\n",
       "  </thead>\n",
       "  <tbody>\n",
       "    <tr>\n",
       "      <th>0</th>\n",
       "      <td>26711.0</td>\n",
       "      <td>Female</td>\n",
       "      <td>Missouri</td>\n",
       "      <td>48</td>\n",
       "      <td>1/1/2017</td>\n",
       "      <td>3</td>\n",
       "      <td>married</td>\n",
       "      <td>165665</td>\n",
       "      <td>2543867.0</td>\n",
       "      <td>5.0</td>\n",
       "      <td>...</td>\n",
       "      <td>Mid-range product</td>\n",
       "      <td>Regular busy</td>\n",
       "      <td>Busiest day</td>\n",
       "      <td>Most orders</td>\n",
       "      <td>8.0</td>\n",
       "      <td>New customer</td>\n",
       "      <td>7.988889</td>\n",
       "      <td>Low spender</td>\n",
       "      <td>19.823529</td>\n",
       "      <td>Regular customer</td>\n",
       "    </tr>\n",
       "    <tr>\n",
       "      <th>1</th>\n",
       "      <td>26711.0</td>\n",
       "      <td>Female</td>\n",
       "      <td>Missouri</td>\n",
       "      <td>48</td>\n",
       "      <td>1/1/2017</td>\n",
       "      <td>3</td>\n",
       "      <td>married</td>\n",
       "      <td>165665</td>\n",
       "      <td>1285508.0</td>\n",
       "      <td>7.0</td>\n",
       "      <td>...</td>\n",
       "      <td>Mid-range product</td>\n",
       "      <td>Regular busy</td>\n",
       "      <td>Regular busy</td>\n",
       "      <td>Most orders</td>\n",
       "      <td>8.0</td>\n",
       "      <td>New customer</td>\n",
       "      <td>7.988889</td>\n",
       "      <td>Low spender</td>\n",
       "      <td>19.823529</td>\n",
       "      <td>Regular customer</td>\n",
       "    </tr>\n",
       "    <tr>\n",
       "      <th>2</th>\n",
       "      <td>26711.0</td>\n",
       "      <td>Female</td>\n",
       "      <td>Missouri</td>\n",
       "      <td>48</td>\n",
       "      <td>1/1/2017</td>\n",
       "      <td>3</td>\n",
       "      <td>married</td>\n",
       "      <td>165665</td>\n",
       "      <td>2578584.0</td>\n",
       "      <td>8.0</td>\n",
       "      <td>...</td>\n",
       "      <td>Mid-range product</td>\n",
       "      <td>Regular busy</td>\n",
       "      <td>Busiest day</td>\n",
       "      <td>Most orders</td>\n",
       "      <td>8.0</td>\n",
       "      <td>New customer</td>\n",
       "      <td>7.988889</td>\n",
       "      <td>Low spender</td>\n",
       "      <td>19.823529</td>\n",
       "      <td>Regular customer</td>\n",
       "    </tr>\n",
       "    <tr>\n",
       "      <th>3</th>\n",
       "      <td>26711.0</td>\n",
       "      <td>Female</td>\n",
       "      <td>Missouri</td>\n",
       "      <td>48</td>\n",
       "      <td>1/1/2017</td>\n",
       "      <td>3</td>\n",
       "      <td>married</td>\n",
       "      <td>165665</td>\n",
       "      <td>423547.0</td>\n",
       "      <td>2.0</td>\n",
       "      <td>...</td>\n",
       "      <td>Mid-range product</td>\n",
       "      <td>Regular busy</td>\n",
       "      <td>Regular busy</td>\n",
       "      <td>Most orders</td>\n",
       "      <td>8.0</td>\n",
       "      <td>New customer</td>\n",
       "      <td>7.988889</td>\n",
       "      <td>Low spender</td>\n",
       "      <td>19.823529</td>\n",
       "      <td>Regular customer</td>\n",
       "    </tr>\n",
       "    <tr>\n",
       "      <th>4</th>\n",
       "      <td>26711.0</td>\n",
       "      <td>Female</td>\n",
       "      <td>Missouri</td>\n",
       "      <td>48</td>\n",
       "      <td>1/1/2017</td>\n",
       "      <td>3</td>\n",
       "      <td>married</td>\n",
       "      <td>165665</td>\n",
       "      <td>2524893.0</td>\n",
       "      <td>3.0</td>\n",
       "      <td>...</td>\n",
       "      <td>Mid-range product</td>\n",
       "      <td>Regular busy</td>\n",
       "      <td>Slowest day</td>\n",
       "      <td>Most orders</td>\n",
       "      <td>8.0</td>\n",
       "      <td>New customer</td>\n",
       "      <td>7.988889</td>\n",
       "      <td>Low spender</td>\n",
       "      <td>19.823529</td>\n",
       "      <td>Regular customer</td>\n",
       "    </tr>\n",
       "  </tbody>\n",
       "</table>\n",
       "<p>5 rows × 30 columns</p>\n",
       "</div>"
      ],
      "text/plain": [
       "   user_id  Gender     state  Age date_joined  n_dependants fam_status  \\\n",
       "0  26711.0  Female  Missouri   48    1/1/2017             3    married   \n",
       "1  26711.0  Female  Missouri   48    1/1/2017             3    married   \n",
       "2  26711.0  Female  Missouri   48    1/1/2017             3    married   \n",
       "3  26711.0  Female  Missouri   48    1/1/2017             3    married   \n",
       "4  26711.0  Female  Missouri   48    1/1/2017             3    married   \n",
       "\n",
       "   income   order_id  order_number  ...    price_range_loc   busiest_day  \\\n",
       "0  165665  2543867.0           5.0  ...  Mid-range product  Regular busy   \n",
       "1  165665  1285508.0           7.0  ...  Mid-range product  Regular busy   \n",
       "2  165665  2578584.0           8.0  ...  Mid-range product  Regular busy   \n",
       "3  165665   423547.0           2.0  ...  Mid-range product  Regular busy   \n",
       "4  165665  2524893.0           3.0  ...  Mid-range product  Regular busy   \n",
       "\n",
       "   Busiest Days  busiest_period_of_day  max_order  loyalty_flag avg_price  \\\n",
       "0   Busiest day            Most orders        8.0  New customer  7.988889   \n",
       "1  Regular busy            Most orders        8.0  New customer  7.988889   \n",
       "2   Busiest day            Most orders        8.0  New customer  7.988889   \n",
       "3  Regular busy            Most orders        8.0  New customer  7.988889   \n",
       "4   Slowest day            Most orders        8.0  New customer  7.988889   \n",
       "\n",
       "   spending_flag  Frecuency     ord_freq_flag  \n",
       "0    Low spender  19.823529  Regular customer  \n",
       "1    Low spender  19.823529  Regular customer  \n",
       "2    Low spender  19.823529  Regular customer  \n",
       "3    Low spender  19.823529  Regular customer  \n",
       "4    Low spender  19.823529  Regular customer  \n",
       "\n",
       "[5 rows x 30 columns]"
      ]
     },
     "execution_count": 7,
     "metadata": {},
     "output_type": "execute_result"
    }
   ],
   "source": [
    "merge_clean.head()"
   ]
  },
  {
   "cell_type": "code",
   "execution_count": 8,
   "id": "eadd0557",
   "metadata": {},
   "outputs": [],
   "source": [
    "# We are creating a regional segmmentation for officers and market analysis\n",
    "\n",
    "region = []\n",
    "for value in merge_clean ['state']:\n",
    "    if value in ['Maine','New Hampshire','Vermont','Massachusetts','Rhode Island','Connecticut','New York','Pennsylvania',\n",
    "                 'New Jersey']:\n",
    "        region.append('Northeast')\n",
    "    elif value in ['Wisconsin','Michigan','Illinois','Indiana','Ohio','North Dakota','South Dakota','Nebraska','Kansas',\n",
    "                   'Minnesota','Iowa','Missouri']:\n",
    "        region.append('Midwest')\n",
    "    elif value in ['Delaware','Maryland','District of Columbia','Virginia','West Virginia','North Carolina','South Carolina',\n",
    "                   'Georgia','Florida','Kentucky','Tennessee','Mississippi','Alabama','Oklahoma','Texas','Arkansas','Louisiana']:\n",
    "        region.append('South')\n",
    "    else:\n",
    "        region.append ('West')"
   ]
  },
  {
   "cell_type": "code",
   "execution_count": 9,
   "id": "37e18ed3",
   "metadata": {},
   "outputs": [],
   "source": [
    "# add new region column\n",
    "merge_clean ['region'] = region"
   ]
  },
  {
   "cell_type": "code",
   "execution_count": 10,
   "id": "37a934f7",
   "metadata": {},
   "outputs": [],
   "source": [
    "# Different spending habits between regions\n",
    "region_crosstab = pd.crosstab(merge_clean ['region'], merge_clean ['spending_flag'], dropna = False)"
   ]
  },
  {
   "cell_type": "code",
   "execution_count": 11,
   "id": "c362b43f",
   "metadata": {},
   "outputs": [
    {
     "data": {
      "text/html": [
       "<div>\n",
       "<style scoped>\n",
       "    .dataframe tbody tr th:only-of-type {\n",
       "        vertical-align: middle;\n",
       "    }\n",
       "\n",
       "    .dataframe tbody tr th {\n",
       "        vertical-align: top;\n",
       "    }\n",
       "\n",
       "    .dataframe thead th {\n",
       "        text-align: right;\n",
       "    }\n",
       "</style>\n",
       "<table border=\"1\" class=\"dataframe\">\n",
       "  <thead>\n",
       "    <tr style=\"text-align: right;\">\n",
       "      <th>spending_flag</th>\n",
       "      <th>High spender</th>\n",
       "      <th>Low spender</th>\n",
       "    </tr>\n",
       "    <tr>\n",
       "      <th>region</th>\n",
       "      <th></th>\n",
       "      <th></th>\n",
       "    </tr>\n",
       "  </thead>\n",
       "  <tbody>\n",
       "    <tr>\n",
       "      <th>Midwest</th>\n",
       "      <td>155975</td>\n",
       "      <td>7441350</td>\n",
       "    </tr>\n",
       "    <tr>\n",
       "      <th>Northeast</th>\n",
       "      <td>108225</td>\n",
       "      <td>5614511</td>\n",
       "    </tr>\n",
       "    <tr>\n",
       "      <th>South</th>\n",
       "      <td>209691</td>\n",
       "      <td>10582194</td>\n",
       "    </tr>\n",
       "    <tr>\n",
       "      <th>West</th>\n",
       "      <td>160354</td>\n",
       "      <td>8132559</td>\n",
       "    </tr>\n",
       "  </tbody>\n",
       "</table>\n",
       "</div>"
      ],
      "text/plain": [
       "spending_flag  High spender  Low spender\n",
       "region                                  \n",
       "Midwest              155975      7441350\n",
       "Northeast            108225      5614511\n",
       "South                209691     10582194\n",
       "West                 160354      8132559"
      ]
     },
     "execution_count": 11,
     "metadata": {},
     "output_type": "execute_result"
    }
   ],
   "source": [
    "region_crosstab"
   ]
  },
  {
   "cell_type": "code",
   "execution_count": 12,
   "id": "07236e8b",
   "metadata": {},
   "outputs": [],
   "source": [
    "# Identify lis of customers that generate more revenue, we will drop customers with less than 5 orders\n",
    "merge_clean.loc[merge_clean['max_order']>=5,'customer_activity']='High-revenue customer'\n",
    "merge_clean.loc[merge_clean['max_order']<5,'customer_activity']='Low-revenue customer'"
   ]
  },
  {
   "cell_type": "code",
   "execution_count": 13,
   "id": "6686ebbf",
   "metadata": {},
   "outputs": [],
   "source": [
    "# Creating a new subset just for customer that generate more revenue to the company\n",
    "high_revenue_customer = merge_clean [ merge_clean['customer_activity']=='High-revenue customer']"
   ]
  },
  {
   "cell_type": "code",
   "execution_count": 14,
   "id": "0d84c9bc",
   "metadata": {},
   "outputs": [
    {
     "data": {
      "text/html": [
       "<div>\n",
       "<style scoped>\n",
       "    .dataframe tbody tr th:only-of-type {\n",
       "        vertical-align: middle;\n",
       "    }\n",
       "\n",
       "    .dataframe tbody tr th {\n",
       "        vertical-align: top;\n",
       "    }\n",
       "\n",
       "    .dataframe thead th {\n",
       "        text-align: right;\n",
       "    }\n",
       "</style>\n",
       "<table border=\"1\" class=\"dataframe\">\n",
       "  <thead>\n",
       "    <tr style=\"text-align: right;\">\n",
       "      <th></th>\n",
       "      <th>user_id</th>\n",
       "      <th>Gender</th>\n",
       "      <th>state</th>\n",
       "      <th>Age</th>\n",
       "      <th>date_joined</th>\n",
       "      <th>n_dependants</th>\n",
       "      <th>fam_status</th>\n",
       "      <th>income</th>\n",
       "      <th>order_id</th>\n",
       "      <th>order_number</th>\n",
       "      <th>...</th>\n",
       "      <th>Busiest Days</th>\n",
       "      <th>busiest_period_of_day</th>\n",
       "      <th>max_order</th>\n",
       "      <th>loyalty_flag</th>\n",
       "      <th>avg_price</th>\n",
       "      <th>spending_flag</th>\n",
       "      <th>Frecuency</th>\n",
       "      <th>ord_freq_flag</th>\n",
       "      <th>region</th>\n",
       "      <th>customer_activity</th>\n",
       "    </tr>\n",
       "  </thead>\n",
       "  <tbody>\n",
       "    <tr>\n",
       "      <th>0</th>\n",
       "      <td>26711.0</td>\n",
       "      <td>Female</td>\n",
       "      <td>Missouri</td>\n",
       "      <td>48</td>\n",
       "      <td>1/1/2017</td>\n",
       "      <td>3</td>\n",
       "      <td>married</td>\n",
       "      <td>165665</td>\n",
       "      <td>2543867.0</td>\n",
       "      <td>5.0</td>\n",
       "      <td>...</td>\n",
       "      <td>Busiest day</td>\n",
       "      <td>Most orders</td>\n",
       "      <td>8.0</td>\n",
       "      <td>New customer</td>\n",
       "      <td>7.988889</td>\n",
       "      <td>Low spender</td>\n",
       "      <td>19.823529</td>\n",
       "      <td>Regular customer</td>\n",
       "      <td>Midwest</td>\n",
       "      <td>High-revenue customer</td>\n",
       "    </tr>\n",
       "    <tr>\n",
       "      <th>1</th>\n",
       "      <td>26711.0</td>\n",
       "      <td>Female</td>\n",
       "      <td>Missouri</td>\n",
       "      <td>48</td>\n",
       "      <td>1/1/2017</td>\n",
       "      <td>3</td>\n",
       "      <td>married</td>\n",
       "      <td>165665</td>\n",
       "      <td>1285508.0</td>\n",
       "      <td>7.0</td>\n",
       "      <td>...</td>\n",
       "      <td>Regular busy</td>\n",
       "      <td>Most orders</td>\n",
       "      <td>8.0</td>\n",
       "      <td>New customer</td>\n",
       "      <td>7.988889</td>\n",
       "      <td>Low spender</td>\n",
       "      <td>19.823529</td>\n",
       "      <td>Regular customer</td>\n",
       "      <td>Midwest</td>\n",
       "      <td>High-revenue customer</td>\n",
       "    </tr>\n",
       "    <tr>\n",
       "      <th>2</th>\n",
       "      <td>26711.0</td>\n",
       "      <td>Female</td>\n",
       "      <td>Missouri</td>\n",
       "      <td>48</td>\n",
       "      <td>1/1/2017</td>\n",
       "      <td>3</td>\n",
       "      <td>married</td>\n",
       "      <td>165665</td>\n",
       "      <td>2578584.0</td>\n",
       "      <td>8.0</td>\n",
       "      <td>...</td>\n",
       "      <td>Busiest day</td>\n",
       "      <td>Most orders</td>\n",
       "      <td>8.0</td>\n",
       "      <td>New customer</td>\n",
       "      <td>7.988889</td>\n",
       "      <td>Low spender</td>\n",
       "      <td>19.823529</td>\n",
       "      <td>Regular customer</td>\n",
       "      <td>Midwest</td>\n",
       "      <td>High-revenue customer</td>\n",
       "    </tr>\n",
       "    <tr>\n",
       "      <th>3</th>\n",
       "      <td>26711.0</td>\n",
       "      <td>Female</td>\n",
       "      <td>Missouri</td>\n",
       "      <td>48</td>\n",
       "      <td>1/1/2017</td>\n",
       "      <td>3</td>\n",
       "      <td>married</td>\n",
       "      <td>165665</td>\n",
       "      <td>423547.0</td>\n",
       "      <td>2.0</td>\n",
       "      <td>...</td>\n",
       "      <td>Regular busy</td>\n",
       "      <td>Most orders</td>\n",
       "      <td>8.0</td>\n",
       "      <td>New customer</td>\n",
       "      <td>7.988889</td>\n",
       "      <td>Low spender</td>\n",
       "      <td>19.823529</td>\n",
       "      <td>Regular customer</td>\n",
       "      <td>Midwest</td>\n",
       "      <td>High-revenue customer</td>\n",
       "    </tr>\n",
       "    <tr>\n",
       "      <th>4</th>\n",
       "      <td>26711.0</td>\n",
       "      <td>Female</td>\n",
       "      <td>Missouri</td>\n",
       "      <td>48</td>\n",
       "      <td>1/1/2017</td>\n",
       "      <td>3</td>\n",
       "      <td>married</td>\n",
       "      <td>165665</td>\n",
       "      <td>2524893.0</td>\n",
       "      <td>3.0</td>\n",
       "      <td>...</td>\n",
       "      <td>Slowest day</td>\n",
       "      <td>Most orders</td>\n",
       "      <td>8.0</td>\n",
       "      <td>New customer</td>\n",
       "      <td>7.988889</td>\n",
       "      <td>Low spender</td>\n",
       "      <td>19.823529</td>\n",
       "      <td>Regular customer</td>\n",
       "      <td>Midwest</td>\n",
       "      <td>High-revenue customer</td>\n",
       "    </tr>\n",
       "  </tbody>\n",
       "</table>\n",
       "<p>5 rows × 32 columns</p>\n",
       "</div>"
      ],
      "text/plain": [
       "   user_id  Gender     state  Age date_joined  n_dependants fam_status  \\\n",
       "0  26711.0  Female  Missouri   48    1/1/2017             3    married   \n",
       "1  26711.0  Female  Missouri   48    1/1/2017             3    married   \n",
       "2  26711.0  Female  Missouri   48    1/1/2017             3    married   \n",
       "3  26711.0  Female  Missouri   48    1/1/2017             3    married   \n",
       "4  26711.0  Female  Missouri   48    1/1/2017             3    married   \n",
       "\n",
       "   income   order_id  order_number  ...  Busiest Days  busiest_period_of_day  \\\n",
       "0  165665  2543867.0           5.0  ...   Busiest day            Most orders   \n",
       "1  165665  1285508.0           7.0  ...  Regular busy            Most orders   \n",
       "2  165665  2578584.0           8.0  ...   Busiest day            Most orders   \n",
       "3  165665   423547.0           2.0  ...  Regular busy            Most orders   \n",
       "4  165665  2524893.0           3.0  ...   Slowest day            Most orders   \n",
       "\n",
       "   max_order  loyalty_flag  avg_price  spending_flag  Frecuency  \\\n",
       "0        8.0  New customer   7.988889    Low spender  19.823529   \n",
       "1        8.0  New customer   7.988889    Low spender  19.823529   \n",
       "2        8.0  New customer   7.988889    Low spender  19.823529   \n",
       "3        8.0  New customer   7.988889    Low spender  19.823529   \n",
       "4        8.0  New customer   7.988889    Low spender  19.823529   \n",
       "\n",
       "      ord_freq_flag   region      customer_activity  \n",
       "0  Regular customer  Midwest  High-revenue customer  \n",
       "1  Regular customer  Midwest  High-revenue customer  \n",
       "2  Regular customer  Midwest  High-revenue customer  \n",
       "3  Regular customer  Midwest  High-revenue customer  \n",
       "4  Regular customer  Midwest  High-revenue customer  \n",
       "\n",
       "[5 rows x 32 columns]"
      ]
     },
     "execution_count": 14,
     "metadata": {},
     "output_type": "execute_result"
    }
   ],
   "source": [
    "high_revenue_customer.head()"
   ]
  },
  {
   "cell_type": "code",
   "execution_count": 15,
   "id": "f81cffd4",
   "metadata": {},
   "outputs": [],
   "source": [
    "# export new data set created\n",
    "high_revenue_customer.to_pickle(os.path.join(path, '02 Data','Prepared Data', 'high_revenue_customers.pkl'))"
   ]
  },
  {
   "cell_type": "code",
   "execution_count": 16,
   "id": "ebd413e9",
   "metadata": {},
   "outputs": [
    {
     "data": {
      "text/plain": [
       "Index(['user_id', 'Gender', 'state', 'Age', 'date_joined', 'n_dependants',\n",
       "       'fam_status', 'income', 'order_id', 'order_number', 'order_day_of_week',\n",
       "       'order_hour_of_day', 'days_since_last_order', 'product_id',\n",
       "       'add_to_cart_order', 'reordered', 'product_name', 'aisle_id',\n",
       "       'department_id', 'prices', 'price_range_loc', 'busiest_day',\n",
       "       'Busiest Days', 'busiest_period_of_day', 'max_order', 'loyalty_flag',\n",
       "       'avg_price', 'spending_flag', 'Frecuency', 'ord_freq_flag', 'region',\n",
       "       'customer_activity'],\n",
       "      dtype='object')"
      ]
     },
     "execution_count": 16,
     "metadata": {},
     "output_type": "execute_result"
    }
   ],
   "source": [
    "high_revenue_customer.columns"
   ]
  },
  {
   "cell_type": "markdown",
   "id": "64b517f6",
   "metadata": {},
   "source": [
    "# Customer Profile Analysis"
   ]
  },
  {
   "cell_type": "markdown",
   "id": "4348b655",
   "metadata": {},
   "source": [
    "### Age"
   ]
  },
  {
   "cell_type": "code",
   "execution_count": 20,
   "id": "b3d58e7e",
   "metadata": {},
   "outputs": [
    {
     "data": {
      "text/plain": [
       "count    3.240486e+07\n",
       "mean     4.946527e+01\n",
       "std      1.848558e+01\n",
       "min      1.800000e+01\n",
       "25%      3.300000e+01\n",
       "50%      4.900000e+01\n",
       "75%      6.500000e+01\n",
       "max      8.100000e+01\n",
       "Name: Age, dtype: float64"
      ]
     },
     "execution_count": 20,
     "metadata": {},
     "output_type": "execute_result"
    }
   ],
   "source": [
    "merge_clean['Age'].describe()"
   ]
  },
  {
   "cell_type": "code",
   "execution_count": 32,
   "id": "e335a849",
   "metadata": {},
   "outputs": [],
   "source": [
    "# Create groups for age profile \n",
    "merge_clean.loc[merge_clean['Age'] >= 35 & (merge_clean['Age'] < 65), 'age_profile'] = 'Middle-aged'\n",
    "merge_clean.loc[merge_clean['Age']<35,'age_profile']='Young adult'\n",
    "merge_clean.loc[merge_clean['Age']>= 65,'age_profile']='Elderly'\n"
   ]
  },
  {
   "cell_type": "code",
   "execution_count": 33,
   "id": "fcd4635c",
   "metadata": {},
   "outputs": [
    {
     "data": {
      "text/plain": [
       "Middle-aged    15202120\n",
       "Young adult     8627655\n",
       "Elderly         8575084\n",
       "Name: age_profile, dtype: int64"
      ]
     },
     "execution_count": 33,
     "metadata": {},
     "output_type": "execute_result"
    }
   ],
   "source": [
    "merge_clean['age_profile'].value_counts()"
   ]
  },
  {
   "cell_type": "code",
   "execution_count": 34,
   "id": "3cad0462",
   "metadata": {},
   "outputs": [
    {
     "data": {
      "text/plain": [
       "<Axes: >"
      ]
     },
     "execution_count": 34,
     "metadata": {},
     "output_type": "execute_result"
    },
    {
     "data": {
      "image/png": "[encoded data removed]",
      "text/plain": [
       "<Figure size 640x480 with 1 Axes>"
      ]
     },
     "metadata": {},
     "output_type": "display_data"
    }
   ],
   "source": [
    "#Create visualization for demography\n",
    "merge_clean['age_profile'].value_counts().plot.bar()"
   ]
  },
  {
   "cell_type": "code",
   "execution_count": 35,
   "id": "b3ec215b",
   "metadata": {},
   "outputs": [
    {
     "data": {
      "image/png": "[encoded data removed]",
      "text/plain": [
       "<Figure size 640x480 with 1 Axes>"
      ]
     },
     "metadata": {},
     "output_type": "display_data"
    }
   ],
   "source": [
    "age_bar = merge_clean['age_profile'].value_counts().plot.bar()"
   ]
  },
  {
   "cell_type": "code",
   "execution_count": 36,
   "id": "caa2d02c",
   "metadata": {},
   "outputs": [],
   "source": [
    "#Export Image\n",
    "age_bar.figure.savefig(os.path.join(path, '04 Analysis','Visualizations', 'age_bar.png'))"
   ]
  },
  {
   "cell_type": "code",
   "execution_count": 58,
   "id": "e00022b1",
   "metadata": {},
   "outputs": [],
   "source": [
    "#merge 2 data sets:\n",
    "df_complete = merge_clean.merge(departments, on = 'department_id')"
   ]
  },
  {
   "cell_type": "code",
   "execution_count": 39,
   "id": "f2147448",
   "metadata": {},
   "outputs": [
    {
     "data": {
      "text/html": [
       "<div>\n",
       "<style scoped>\n",
       "    .dataframe tbody tr th:only-of-type {\n",
       "        vertical-align: middle;\n",
       "    }\n",
       "\n",
       "    .dataframe tbody tr th {\n",
       "        vertical-align: top;\n",
       "    }\n",
       "\n",
       "    .dataframe thead tr th {\n",
       "        text-align: left;\n",
       "    }\n",
       "\n",
       "    .dataframe thead tr:last-of-type th {\n",
       "        text-align: right;\n",
       "    }\n",
       "</style>\n",
       "<table border=\"1\" class=\"dataframe\">\n",
       "  <thead>\n",
       "    <tr>\n",
       "      <th></th>\n",
       "      <th colspan=\"3\" halign=\"left\">days_since_last_order</th>\n",
       "      <th colspan=\"3\" halign=\"left\">prices</th>\n",
       "    </tr>\n",
       "    <tr>\n",
       "      <th></th>\n",
       "      <th>max</th>\n",
       "      <th>mean</th>\n",
       "      <th>min</th>\n",
       "      <th>max</th>\n",
       "      <th>mean</th>\n",
       "      <th>min</th>\n",
       "    </tr>\n",
       "    <tr>\n",
       "      <th>age_profile</th>\n",
       "      <th></th>\n",
       "      <th></th>\n",
       "      <th></th>\n",
       "      <th></th>\n",
       "      <th></th>\n",
       "      <th></th>\n",
       "    </tr>\n",
       "  </thead>\n",
       "  <tbody>\n",
       "    <tr>\n",
       "      <th>Elderly</th>\n",
       "      <td>30.0</td>\n",
       "      <td>11.078641</td>\n",
       "      <td>0.0</td>\n",
       "      <td>99999.0</td>\n",
       "      <td>11.768850</td>\n",
       "      <td>1.0</td>\n",
       "    </tr>\n",
       "    <tr>\n",
       "      <th>Middle-aged</th>\n",
       "      <td>30.0</td>\n",
       "      <td>11.108966</td>\n",
       "      <td>0.0</td>\n",
       "      <td>99999.0</td>\n",
       "      <td>11.989499</td>\n",
       "      <td>1.0</td>\n",
       "    </tr>\n",
       "    <tr>\n",
       "      <th>Young adult</th>\n",
       "      <td>30.0</td>\n",
       "      <td>11.120753</td>\n",
       "      <td>0.0</td>\n",
       "      <td>99999.0</td>\n",
       "      <td>12.173973</td>\n",
       "      <td>1.0</td>\n",
       "    </tr>\n",
       "  </tbody>\n",
       "</table>\n",
       "</div>"
      ],
      "text/plain": [
       "            days_since_last_order                   prices                \n",
       "                              max       mean  min      max       mean  min\n",
       "age_profile                                                               \n",
       "Elderly                      30.0  11.078641  0.0  99999.0  11.768850  1.0\n",
       "Middle-aged                  30.0  11.108966  0.0  99999.0  11.989499  1.0\n",
       "Young adult                  30.0  11.120753  0.0  99999.0  12.173973  1.0"
      ]
     },
     "execution_count": 39,
     "metadata": {},
     "output_type": "execute_result"
    }
   ],
   "source": [
    "# aggregate main variables on a customer-profile level for usage frequency and expenditure.\n",
    "merge_clean.groupby('age_profile').agg({'days_since_last_order':['max', 'mean', 'min'], 'prices':['max', 'mean', 'min']})"
   ]
  },
  {
   "cell_type": "code",
   "execution_count": 40,
   "id": "88b288fc",
   "metadata": {},
   "outputs": [],
   "source": [
    "region_age = pd.crosstab(merge_clean['region'],merge_clean['age_profile'],dropna=False)"
   ]
  },
  {
   "cell_type": "code",
   "execution_count": 41,
   "id": "ce2e8357",
   "metadata": {},
   "outputs": [
    {
     "data": {
      "text/html": [
       "<div>\n",
       "<style scoped>\n",
       "    .dataframe tbody tr th:only-of-type {\n",
       "        vertical-align: middle;\n",
       "    }\n",
       "\n",
       "    .dataframe tbody tr th {\n",
       "        vertical-align: top;\n",
       "    }\n",
       "\n",
       "    .dataframe thead th {\n",
       "        text-align: right;\n",
       "    }\n",
       "</style>\n",
       "<table border=\"1\" class=\"dataframe\">\n",
       "  <thead>\n",
       "    <tr style=\"text-align: right;\">\n",
       "      <th>age_profile</th>\n",
       "      <th>Elderly</th>\n",
       "      <th>Middle-aged</th>\n",
       "      <th>Young adult</th>\n",
       "    </tr>\n",
       "    <tr>\n",
       "      <th>region</th>\n",
       "      <th></th>\n",
       "      <th></th>\n",
       "      <th></th>\n",
       "    </tr>\n",
       "  </thead>\n",
       "  <tbody>\n",
       "    <tr>\n",
       "      <th>Midwest</th>\n",
       "      <td>1990844</td>\n",
       "      <td>3603909</td>\n",
       "      <td>2002572</td>\n",
       "    </tr>\n",
       "    <tr>\n",
       "      <th>Northeast</th>\n",
       "      <td>1553903</td>\n",
       "      <td>2633291</td>\n",
       "      <td>1535542</td>\n",
       "    </tr>\n",
       "    <tr>\n",
       "      <th>South</th>\n",
       "      <td>2836257</td>\n",
       "      <td>5057303</td>\n",
       "      <td>2898325</td>\n",
       "    </tr>\n",
       "    <tr>\n",
       "      <th>West</th>\n",
       "      <td>2194080</td>\n",
       "      <td>3907617</td>\n",
       "      <td>2191216</td>\n",
       "    </tr>\n",
       "  </tbody>\n",
       "</table>\n",
       "</div>"
      ],
      "text/plain": [
       "age_profile  Elderly  Middle-aged  Young adult\n",
       "region                                        \n",
       "Midwest      1990844      3603909      2002572\n",
       "Northeast    1553903      2633291      1535542\n",
       "South        2836257      5057303      2898325\n",
       "West         2194080      3907617      2191216"
      ]
     },
     "execution_count": 41,
     "metadata": {},
     "output_type": "execute_result"
    }
   ],
   "source": [
    "region_age"
   ]
  },
  {
   "cell_type": "code",
   "execution_count": 42,
   "id": "dd7befd3",
   "metadata": {},
   "outputs": [
    {
     "data": {
      "image/png": "[encoded data removed]",
      "text/plain": [
       "<Figure size 640x480 with 1 Axes>"
      ]
     },
     "metadata": {},
     "output_type": "display_data"
    }
   ],
   "source": [
    "# Bar chart between age and region\n",
    "regions_age = region_age.plot.bar()\n",
    "plt.title('Age Group by Region')\n",
    "plt.show()"
   ]
  },
  {
   "cell_type": "markdown",
   "id": "0c2d74de",
   "metadata": {},
   "source": [
    "#### The age of groups present the same bahaviour across different regions where Midle-aged group is higher than the other two variables the amounts are  differente but is understandabe due to population in those regions"
   ]
  },
  {
   "cell_type": "code",
   "execution_count": 44,
   "id": "67f61a63",
   "metadata": {},
   "outputs": [],
   "source": [
    "#Exporting Visualization\n",
    "regions_age.figure.savefig(os.path.join(path, '04 Analysis','Visualizations', 'Regions-age.png'))"
   ]
  },
  {
   "cell_type": "code",
   "execution_count": 46,
   "id": "0c68d10d",
   "metadata": {},
   "outputs": [
    {
     "data": {
      "text/html": [
       "<div>\n",
       "<style scoped>\n",
       "    .dataframe tbody tr th:only-of-type {\n",
       "        vertical-align: middle;\n",
       "    }\n",
       "\n",
       "    .dataframe tbody tr th {\n",
       "        vertical-align: top;\n",
       "    }\n",
       "\n",
       "    .dataframe thead th {\n",
       "        text-align: right;\n",
       "    }\n",
       "</style>\n",
       "<table border=\"1\" class=\"dataframe\">\n",
       "  <thead>\n",
       "    <tr style=\"text-align: right;\">\n",
       "      <th></th>\n",
       "      <th>Unnamed: 0</th>\n",
       "      <th>department</th>\n",
       "    </tr>\n",
       "  </thead>\n",
       "  <tbody>\n",
       "    <tr>\n",
       "      <th>0</th>\n",
       "      <td>1</td>\n",
       "      <td>frozen</td>\n",
       "    </tr>\n",
       "    <tr>\n",
       "      <th>1</th>\n",
       "      <td>2</td>\n",
       "      <td>other</td>\n",
       "    </tr>\n",
       "    <tr>\n",
       "      <th>2</th>\n",
       "      <td>3</td>\n",
       "      <td>bakery</td>\n",
       "    </tr>\n",
       "    <tr>\n",
       "      <th>3</th>\n",
       "      <td>4</td>\n",
       "      <td>produce</td>\n",
       "    </tr>\n",
       "    <tr>\n",
       "      <th>4</th>\n",
       "      <td>5</td>\n",
       "      <td>alcohol</td>\n",
       "    </tr>\n",
       "  </tbody>\n",
       "</table>\n",
       "</div>"
      ],
      "text/plain": [
       "   Unnamed: 0 department\n",
       "0           1     frozen\n",
       "1           2      other\n",
       "2           3     bakery\n",
       "3           4    produce\n",
       "4           5    alcohol"
      ]
     },
     "execution_count": 46,
     "metadata": {},
     "output_type": "execute_result"
    }
   ],
   "source": [
    "departments.head()"
   ]
  },
  {
   "cell_type": "code",
   "execution_count": 47,
   "id": "e53ba8e4",
   "metadata": {},
   "outputs": [],
   "source": [
    "# remane Unnamed: 0 to department_id\n",
    "departments.rename(columns={'Unnamed: 0':'department_id'},inplace=True)"
   ]
  },
  {
   "cell_type": "code",
   "execution_count": 48,
   "id": "08fb082b",
   "metadata": {},
   "outputs": [
    {
     "data": {
      "text/html": [
       "<div>\n",
       "<style scoped>\n",
       "    .dataframe tbody tr th:only-of-type {\n",
       "        vertical-align: middle;\n",
       "    }\n",
       "\n",
       "    .dataframe tbody tr th {\n",
       "        vertical-align: top;\n",
       "    }\n",
       "\n",
       "    .dataframe thead th {\n",
       "        text-align: right;\n",
       "    }\n",
       "</style>\n",
       "<table border=\"1\" class=\"dataframe\">\n",
       "  <thead>\n",
       "    <tr style=\"text-align: right;\">\n",
       "      <th></th>\n",
       "      <th>department_id</th>\n",
       "      <th>department</th>\n",
       "    </tr>\n",
       "  </thead>\n",
       "  <tbody>\n",
       "    <tr>\n",
       "      <th>0</th>\n",
       "      <td>1</td>\n",
       "      <td>frozen</td>\n",
       "    </tr>\n",
       "    <tr>\n",
       "      <th>1</th>\n",
       "      <td>2</td>\n",
       "      <td>other</td>\n",
       "    </tr>\n",
       "    <tr>\n",
       "      <th>2</th>\n",
       "      <td>3</td>\n",
       "      <td>bakery</td>\n",
       "    </tr>\n",
       "    <tr>\n",
       "      <th>3</th>\n",
       "      <td>4</td>\n",
       "      <td>produce</td>\n",
       "    </tr>\n",
       "    <tr>\n",
       "      <th>4</th>\n",
       "      <td>5</td>\n",
       "      <td>alcohol</td>\n",
       "    </tr>\n",
       "    <tr>\n",
       "      <th>5</th>\n",
       "      <td>6</td>\n",
       "      <td>international</td>\n",
       "    </tr>\n",
       "    <tr>\n",
       "      <th>6</th>\n",
       "      <td>7</td>\n",
       "      <td>beverages</td>\n",
       "    </tr>\n",
       "    <tr>\n",
       "      <th>7</th>\n",
       "      <td>8</td>\n",
       "      <td>pets</td>\n",
       "    </tr>\n",
       "    <tr>\n",
       "      <th>8</th>\n",
       "      <td>9</td>\n",
       "      <td>dry goods pasta</td>\n",
       "    </tr>\n",
       "    <tr>\n",
       "      <th>9</th>\n",
       "      <td>10</td>\n",
       "      <td>bulk</td>\n",
       "    </tr>\n",
       "    <tr>\n",
       "      <th>10</th>\n",
       "      <td>11</td>\n",
       "      <td>personal care</td>\n",
       "    </tr>\n",
       "    <tr>\n",
       "      <th>11</th>\n",
       "      <td>12</td>\n",
       "      <td>meat seafood</td>\n",
       "    </tr>\n",
       "    <tr>\n",
       "      <th>12</th>\n",
       "      <td>13</td>\n",
       "      <td>pantry</td>\n",
       "    </tr>\n",
       "    <tr>\n",
       "      <th>13</th>\n",
       "      <td>14</td>\n",
       "      <td>breakfast</td>\n",
       "    </tr>\n",
       "    <tr>\n",
       "      <th>14</th>\n",
       "      <td>15</td>\n",
       "      <td>canned goods</td>\n",
       "    </tr>\n",
       "    <tr>\n",
       "      <th>15</th>\n",
       "      <td>16</td>\n",
       "      <td>dairy eggs</td>\n",
       "    </tr>\n",
       "    <tr>\n",
       "      <th>16</th>\n",
       "      <td>17</td>\n",
       "      <td>household</td>\n",
       "    </tr>\n",
       "    <tr>\n",
       "      <th>17</th>\n",
       "      <td>18</td>\n",
       "      <td>babies</td>\n",
       "    </tr>\n",
       "    <tr>\n",
       "      <th>18</th>\n",
       "      <td>19</td>\n",
       "      <td>snacks</td>\n",
       "    </tr>\n",
       "    <tr>\n",
       "      <th>19</th>\n",
       "      <td>20</td>\n",
       "      <td>deli</td>\n",
       "    </tr>\n",
       "    <tr>\n",
       "      <th>20</th>\n",
       "      <td>21</td>\n",
       "      <td>missing</td>\n",
       "    </tr>\n",
       "  </tbody>\n",
       "</table>\n",
       "</div>"
      ],
      "text/plain": [
       "    department_id       department\n",
       "0               1           frozen\n",
       "1               2            other\n",
       "2               3           bakery\n",
       "3               4          produce\n",
       "4               5          alcohol\n",
       "5               6    international\n",
       "6               7        beverages\n",
       "7               8             pets\n",
       "8               9  dry goods pasta\n",
       "9              10             bulk\n",
       "10             11    personal care\n",
       "11             12     meat seafood\n",
       "12             13           pantry\n",
       "13             14        breakfast\n",
       "14             15     canned goods\n",
       "15             16       dairy eggs\n",
       "16             17        household\n",
       "17             18           babies\n",
       "18             19           snacks\n",
       "19             20             deli\n",
       "20             21          missing"
      ]
     },
     "execution_count": 48,
     "metadata": {},
     "output_type": "execute_result"
    }
   ],
   "source": [
    "departments"
   ]
  },
  {
   "cell_type": "code",
   "execution_count": 59,
   "id": "343acbca",
   "metadata": {},
   "outputs": [],
   "source": [
    "# creating a crosstab between department and age\n",
    "department_age = pd.crosstab(df_complete['department'],df_complete['age_profile'],dropna=False,)"
   ]
  },
  {
   "cell_type": "code",
   "execution_count": 60,
   "id": "0731aa5d",
   "metadata": {},
   "outputs": [],
   "source": [
    "department_age = department_age.sort_values(by=['Elderly'], ascending=True)"
   ]
  },
  {
   "cell_type": "code",
   "execution_count": 61,
   "id": "a7de5bfa",
   "metadata": {},
   "outputs": [
    {
     "data": {
      "image/png": "[encoded data removed]",
      "text/plain": [
       "<Figure size 640x480 with 1 Axes>"
      ]
     },
     "metadata": {},
     "output_type": "display_data"
    }
   ],
   "source": [
    "# Create visualization Ange and region \n",
    "department_age_vizualization=department_age.plot.barh(stacked=True)\n",
    "plt.title('Age Group by Department')\n",
    "plt.show()"
   ]
  },
  {
   "cell_type": "code",
   "execution_count": 63,
   "id": "92c2b7ab",
   "metadata": {},
   "outputs": [],
   "source": [
    "#Exporting Visualization\n",
    "department_age_vizualization.figure.savefig(os.path.join(path, '04 Analysis','Visualizations', 'Age group by department.png'))"
   ]
  },
  {
   "cell_type": "markdown",
   "id": "88e09c92",
   "metadata": {},
   "source": [
    "###  Income"
   ]
  },
  {
   "cell_type": "code",
   "execution_count": 64,
   "id": "21e158d1",
   "metadata": {},
   "outputs": [
    {
     "data": {
      "text/plain": [
       "count    3.240486e+07\n",
       "mean     9.943773e+04\n",
       "std      4.305727e+04\n",
       "min      2.590300e+04\n",
       "25%      6.700400e+04\n",
       "50%      9.661800e+04\n",
       "75%      1.279120e+05\n",
       "max      5.939010e+05\n",
       "Name: income, dtype: float64"
      ]
     },
     "execution_count": 64,
     "metadata": {},
     "output_type": "execute_result"
    }
   ],
   "source": [
    "df_complete['income'].describe()"
   ]
  },
  {
   "cell_type": "code",
   "execution_count": 66,
   "id": "23b03d85",
   "metadata": {},
   "outputs": [],
   "source": [
    "# create new column income_level to profile customers income level\n",
    "df_complete.loc[df_complete['income'] >= 40000 & (df_complete['income'] < 80000), 'income_level'] = 'Moderate-income'\n",
    "df_complete.loc[df_complete['income']<40000,'income_level']='Low-income'\n",
    "df_complete.loc[df_complete['income']>= 80000,'income_level']='High-income'"
   ]
  },
  {
   "cell_type": "code",
   "execution_count": 67,
   "id": "0cc0af9e",
   "metadata": {},
   "outputs": [
    {
     "data": {
      "text/plain": [
       "High-income        20831060\n",
       "Moderate-income     9846601\n",
       "Low-income          1727198\n",
       "Name: income_level, dtype: int64"
      ]
     },
     "execution_count": 67,
     "metadata": {},
     "output_type": "execute_result"
    }
   ],
   "source": [
    "# value counts for income groups\n",
    "df_complete['income_level'].value_counts()"
   ]
  },
  {
   "cell_type": "code",
   "execution_count": 69,
   "id": "3e3d69a9",
   "metadata": {},
   "outputs": [
    {
     "data": {
      "image/png": "[encoded data removed]",
      "text/plain": [
       "<Figure size 640x480 with 1 Axes>"
      ]
     },
     "metadata": {},
     "output_type": "display_data"
    }
   ],
   "source": [
    "income_bar = df_complete['income_level'].value_counts().plot.bar()"
   ]
  },
  {
   "cell_type": "code",
   "execution_count": 70,
   "id": "cf0f305b",
   "metadata": {},
   "outputs": [],
   "source": [
    "#Exporting Visualization\n",
    "income_bar.figure.savefig(os.path.join(path, '04 Analysis','Visualizations', 'Income_bar.png'))"
   ]
  },
  {
   "cell_type": "code",
   "execution_count": 71,
   "id": "b1bf378f",
   "metadata": {},
   "outputs": [
    {
     "data": {
      "text/html": [
       "<div>\n",
       "<style scoped>\n",
       "    .dataframe tbody tr th:only-of-type {\n",
       "        vertical-align: middle;\n",
       "    }\n",
       "\n",
       "    .dataframe tbody tr th {\n",
       "        vertical-align: top;\n",
       "    }\n",
       "\n",
       "    .dataframe thead tr th {\n",
       "        text-align: left;\n",
       "    }\n",
       "\n",
       "    .dataframe thead tr:last-of-type th {\n",
       "        text-align: right;\n",
       "    }\n",
       "</style>\n",
       "<table border=\"1\" class=\"dataframe\">\n",
       "  <thead>\n",
       "    <tr>\n",
       "      <th></th>\n",
       "      <th colspan=\"3\" halign=\"left\">days_since_last_order</th>\n",
       "      <th colspan=\"3\" halign=\"left\">prices</th>\n",
       "    </tr>\n",
       "    <tr>\n",
       "      <th></th>\n",
       "      <th>max</th>\n",
       "      <th>mean</th>\n",
       "      <th>min</th>\n",
       "      <th>max</th>\n",
       "      <th>mean</th>\n",
       "      <th>min</th>\n",
       "    </tr>\n",
       "    <tr>\n",
       "      <th>income_level</th>\n",
       "      <th></th>\n",
       "      <th></th>\n",
       "      <th></th>\n",
       "      <th></th>\n",
       "      <th></th>\n",
       "      <th></th>\n",
       "    </tr>\n",
       "  </thead>\n",
       "  <tbody>\n",
       "    <tr>\n",
       "      <th>High-income</th>\n",
       "      <td>30.0</td>\n",
       "      <td>11.045033</td>\n",
       "      <td>0.0</td>\n",
       "      <td>99999.0</td>\n",
       "      <td>14.473231</td>\n",
       "      <td>1.0</td>\n",
       "    </tr>\n",
       "    <tr>\n",
       "      <th>Low-income</th>\n",
       "      <td>30.0</td>\n",
       "      <td>11.686944</td>\n",
       "      <td>0.0</td>\n",
       "      <td>25.0</td>\n",
       "      <td>6.495264</td>\n",
       "      <td>1.0</td>\n",
       "    </tr>\n",
       "    <tr>\n",
       "      <th>Moderate-income</th>\n",
       "      <td>30.0</td>\n",
       "      <td>11.128019</td>\n",
       "      <td>0.0</td>\n",
       "      <td>14900.0</td>\n",
       "      <td>7.668248</td>\n",
       "      <td>1.0</td>\n",
       "    </tr>\n",
       "  </tbody>\n",
       "</table>\n",
       "</div>"
      ],
      "text/plain": [
       "                days_since_last_order                   prices                \n",
       "                                  max       mean  min      max       mean  min\n",
       "income_level                                                                  \n",
       "High-income                      30.0  11.045033  0.0  99999.0  14.473231  1.0\n",
       "Low-income                       30.0  11.686944  0.0     25.0   6.495264  1.0\n",
       "Moderate-income                  30.0  11.128019  0.0  14900.0   7.668248  1.0"
      ]
     },
     "execution_count": 71,
     "metadata": {},
     "output_type": "execute_result"
    }
   ],
   "source": [
    "# aggregate main variables on a customer-profile level for usage frequency and expenditure.\n",
    "df_complete.groupby('income_level').agg({'days_since_last_order':['max', 'mean', 'min'], 'prices':['max', 'mean', 'min']})"
   ]
  },
  {
   "cell_type": "code",
   "execution_count": 73,
   "id": "e809d8a3",
   "metadata": {},
   "outputs": [],
   "source": [
    "# Create crosstab\n",
    "region_income=pd.crosstab(df_complete['region'],df_complete['income_level'], dropna=False)"
   ]
  },
  {
   "cell_type": "code",
   "execution_count": 74,
   "id": "cd3693c5",
   "metadata": {},
   "outputs": [],
   "source": [
    "region_income = region_income.reindex(['Low-income', 'Moderate-income', 'High-income'], \n",
    "     axis=\"columns\")"
   ]
  },
  {
   "cell_type": "code",
   "execution_count": 75,
   "id": "4a387354",
   "metadata": {},
   "outputs": [
    {
     "data": {
      "image/png": "[encoded data removed]",
      "text/plain": [
       "<Figure size 640x480 with 1 Axes>"
      ]
     },
     "metadata": {},
     "output_type": "display_data"
    }
   ],
   "source": [
    "# create a bar chart between age and region\n",
    "regions_income_vizualization=region_income.plot.bar()\n",
    "plt.title('Income Level by Region')\n",
    "plt.show()"
   ]
  },
  {
   "cell_type": "code",
   "execution_count": 77,
   "id": "14e7546f",
   "metadata": {},
   "outputs": [],
   "source": [
    "#Exporting Visualization\n",
    "regions_income_vizualization.figure.savefig(os.path.join(path, '04 Analysis','Visualizations', 'regions_income_viz.png'))"
   ]
  },
  {
   "cell_type": "code",
   "execution_count": 78,
   "id": "01a45fb7",
   "metadata": {},
   "outputs": [],
   "source": [
    "# creating a crosstab between department and income\n",
    "department_income =pd.crosstab(df_complete['department'],df_complete['income_level'],dropna=False,)"
   ]
  },
  {
   "cell_type": "code",
   "execution_count": 79,
   "id": "cb00a51e",
   "metadata": {},
   "outputs": [
    {
     "data": {
      "text/html": [
       "<div>\n",
       "<style scoped>\n",
       "    .dataframe tbody tr th:only-of-type {\n",
       "        vertical-align: middle;\n",
       "    }\n",
       "\n",
       "    .dataframe tbody tr th {\n",
       "        vertical-align: top;\n",
       "    }\n",
       "\n",
       "    .dataframe thead th {\n",
       "        text-align: right;\n",
       "    }\n",
       "</style>\n",
       "<table border=\"1\" class=\"dataframe\">\n",
       "  <thead>\n",
       "    <tr style=\"text-align: right;\">\n",
       "      <th>income_level</th>\n",
       "      <th>High-income</th>\n",
       "      <th>Low-income</th>\n",
       "      <th>Moderate-income</th>\n",
       "    </tr>\n",
       "    <tr>\n",
       "      <th>department</th>\n",
       "      <th></th>\n",
       "      <th></th>\n",
       "      <th></th>\n",
       "    </tr>\n",
       "  </thead>\n",
       "  <tbody>\n",
       "    <tr>\n",
       "      <th>alcohol</th>\n",
       "      <td>99787</td>\n",
       "      <td>9593</td>\n",
       "      <td>44316</td>\n",
       "    </tr>\n",
       "    <tr>\n",
       "      <th>babies</th>\n",
       "      <td>287317</td>\n",
       "      <td>13352</td>\n",
       "      <td>123133</td>\n",
       "    </tr>\n",
       "    <tr>\n",
       "      <th>bakery</th>\n",
       "      <td>770599</td>\n",
       "      <td>53366</td>\n",
       "      <td>348463</td>\n",
       "    </tr>\n",
       "    <tr>\n",
       "      <th>beverages</th>\n",
       "      <td>1642715</td>\n",
       "      <td>202864</td>\n",
       "      <td>842544</td>\n",
       "    </tr>\n",
       "    <tr>\n",
       "      <th>breakfast</th>\n",
       "      <td>434105</td>\n",
       "      <td>49049</td>\n",
       "      <td>219879</td>\n",
       "    </tr>\n",
       "    <tr>\n",
       "      <th>bulk</th>\n",
       "      <td>20983</td>\n",
       "      <td>2359</td>\n",
       "      <td>11231</td>\n",
       "    </tr>\n",
       "    <tr>\n",
       "      <th>canned goods</th>\n",
       "      <td>714940</td>\n",
       "      <td>38849</td>\n",
       "      <td>314269</td>\n",
       "    </tr>\n",
       "    <tr>\n",
       "      <th>dairy eggs</th>\n",
       "      <td>3528170</td>\n",
       "      <td>251488</td>\n",
       "      <td>1619089</td>\n",
       "    </tr>\n",
       "    <tr>\n",
       "      <th>deli</th>\n",
       "      <td>677903</td>\n",
       "      <td>55209</td>\n",
       "      <td>318137</td>\n",
       "    </tr>\n",
       "    <tr>\n",
       "      <th>dry goods pasta</th>\n",
       "      <td>579315</td>\n",
       "      <td>32347</td>\n",
       "      <td>254965</td>\n",
       "    </tr>\n",
       "    <tr>\n",
       "      <th>frozen</th>\n",
       "      <td>1454156</td>\n",
       "      <td>111455</td>\n",
       "      <td>669132</td>\n",
       "    </tr>\n",
       "    <tr>\n",
       "      <th>household</th>\n",
       "      <td>468247</td>\n",
       "      <td>46285</td>\n",
       "      <td>224134</td>\n",
       "    </tr>\n",
       "    <tr>\n",
       "      <th>international</th>\n",
       "      <td>178232</td>\n",
       "      <td>10890</td>\n",
       "      <td>80131</td>\n",
       "    </tr>\n",
       "    <tr>\n",
       "      <th>meat seafood</th>\n",
       "      <td>494065</td>\n",
       "      <td>14081</td>\n",
       "      <td>200781</td>\n",
       "    </tr>\n",
       "    <tr>\n",
       "      <th>missing</th>\n",
       "      <td>44170</td>\n",
       "      <td>3430</td>\n",
       "      <td>21545</td>\n",
       "    </tr>\n",
       "    <tr>\n",
       "      <th>other</th>\n",
       "      <td>23358</td>\n",
       "      <td>2126</td>\n",
       "      <td>10807</td>\n",
       "    </tr>\n",
       "    <tr>\n",
       "      <th>pantry</th>\n",
       "      <td>1232736</td>\n",
       "      <td>83610</td>\n",
       "      <td>559023</td>\n",
       "    </tr>\n",
       "    <tr>\n",
       "      <th>personal care</th>\n",
       "      <td>285426</td>\n",
       "      <td>24821</td>\n",
       "      <td>137325</td>\n",
       "    </tr>\n",
       "    <tr>\n",
       "      <th>pets</th>\n",
       "      <td>65051</td>\n",
       "      <td>4739</td>\n",
       "      <td>27926</td>\n",
       "    </tr>\n",
       "    <tr>\n",
       "      <th>produce</th>\n",
       "      <td>6220078</td>\n",
       "      <td>407842</td>\n",
       "      <td>2851371</td>\n",
       "    </tr>\n",
       "    <tr>\n",
       "      <th>snacks</th>\n",
       "      <td>1609707</td>\n",
       "      <td>309443</td>\n",
       "      <td>968400</td>\n",
       "    </tr>\n",
       "  </tbody>\n",
       "</table>\n",
       "</div>"
      ],
      "text/plain": [
       "income_level     High-income  Low-income  Moderate-income\n",
       "department                                               \n",
       "alcohol                99787        9593            44316\n",
       "babies                287317       13352           123133\n",
       "bakery                770599       53366           348463\n",
       "beverages            1642715      202864           842544\n",
       "breakfast             434105       49049           219879\n",
       "bulk                   20983        2359            11231\n",
       "canned goods          714940       38849           314269\n",
       "dairy eggs           3528170      251488          1619089\n",
       "deli                  677903       55209           318137\n",
       "dry goods pasta       579315       32347           254965\n",
       "frozen               1454156      111455           669132\n",
       "household             468247       46285           224134\n",
       "international         178232       10890            80131\n",
       "meat seafood          494065       14081           200781\n",
       "missing                44170        3430            21545\n",
       "other                  23358        2126            10807\n",
       "pantry               1232736       83610           559023\n",
       "personal care         285426       24821           137325\n",
       "pets                   65051        4739            27926\n",
       "produce              6220078      407842          2851371\n",
       "snacks               1609707      309443           968400"
      ]
     },
     "execution_count": 79,
     "metadata": {},
     "output_type": "execute_result"
    }
   ],
   "source": [
    "department_income"
   ]
  },
  {
   "cell_type": "code",
   "execution_count": 80,
   "id": "2a1cb413",
   "metadata": {},
   "outputs": [],
   "source": [
    " department_income = department_income.sort_values(by=['Moderate-income'], ascending=True)"
   ]
  },
  {
   "cell_type": "code",
   "execution_count": 81,
   "id": "0f5afcdf",
   "metadata": {},
   "outputs": [
    {
     "data": {
      "image/png": "[encoded data removed]",
      "text/plain": [
       "<Figure size 640x480 with 1 Axes>"
      ]
     },
     "metadata": {},
     "output_type": "display_data"
    }
   ],
   "source": [
    "# create a bar chart between income and department\n",
    "department_income_viz=department_income.plot.barh(stacked=True)\n",
    "plt.title('Income Level by Department')\n",
    "plt.show()"
   ]
  },
  {
   "cell_type": "code",
   "execution_count": 83,
   "id": "f8af4836",
   "metadata": {},
   "outputs": [],
   "source": [
    "#Exporting Visualization\n",
    "department_income_viz.figure.savefig(os.path.join(path, '04 Analysis','Visualizations', 'department_income_viz.png'))"
   ]
  },
  {
   "cell_type": "markdown",
   "id": "2223c966",
   "metadata": {},
   "source": [
    "##  Goods and Departments"
   ]
  },
  {
   "cell_type": "code",
   "execution_count": 84,
   "id": "ea92a518",
   "metadata": {},
   "outputs": [
    {
     "data": {
      "image/png": "[encoded data removed]",
      "text/plain": [
       "<Figure size 640x480 with 1 Axes>"
      ]
     },
     "metadata": {},
     "output_type": "display_data"
    }
   ],
   "source": [
    "department_bar = df_complete['department'].value_counts().plot.bar()"
   ]
  },
  {
   "cell_type": "code",
   "execution_count": 86,
   "id": "82fa5397",
   "metadata": {},
   "outputs": [],
   "source": [
    "#Exporting Visualization\n",
    "department_bar.figure.savefig(os.path.join(path, '04 Analysis','Visualizations', 'department_bar.png'))"
   ]
  },
  {
   "cell_type": "markdown",
   "id": "d269676a",
   "metadata": {},
   "source": [
    "### Profile for Customers that consume alcohol"
   ]
  },
  {
   "cell_type": "code",
   "execution_count": 87,
   "id": "e4e924e3",
   "metadata": {},
   "outputs": [],
   "source": [
    "\n",
    "df_complete.loc[df_complete['department_id'] == 5, 'alcohol_customer'] = 'alcohol consumer'"
   ]
  },
  {
   "cell_type": "code",
   "execution_count": 88,
   "id": "f9ec31b7",
   "metadata": {},
   "outputs": [],
   "source": [
    "df_complete.loc[df_complete['department_id'] != 5, 'alcohol_customer'] = 'non-alcohol consumer'"
   ]
  },
  {
   "cell_type": "code",
   "execution_count": 89,
   "id": "17088705",
   "metadata": {},
   "outputs": [],
   "source": [
    "# identify customers who are alcohol consumers\n",
    "alch_values = df_complete.loc[df_complete['alcohol_customer'] == 'alcohol consumer', 'user_id'].unique()"
   ]
  },
  {
   "cell_type": "code",
   "execution_count": 90,
   "id": "af2761b5",
   "metadata": {},
   "outputs": [
    {
     "data": {
      "text/plain": [
       "array(['125935.0', '130797.0', '83910.0', ..., '131857.0', '20302.0',\n",
       "       '116898.0'], dtype=object)"
      ]
     },
     "execution_count": 90,
     "metadata": {},
     "output_type": "execute_result"
    }
   ],
   "source": [
    "alch_values"
   ]
  },
  {
   "cell_type": "code",
   "execution_count": 91,
   "id": "5b1aab43",
   "metadata": {},
   "outputs": [],
   "source": [
    "# update alcohol_customer column\n",
    "df_complete.loc[df_complete['user_id'].isin(alch_values), 'alcohol_customer'] = 'alcohol consumer'"
   ]
  },
  {
   "cell_type": "code",
   "execution_count": 92,
   "id": "4c3e8278",
   "metadata": {},
   "outputs": [
    {
     "data": {
      "text/plain": [
       "non-alcohol consumer    29991046\n",
       "alcohol consumer         2413813\n",
       "Name: alcohol_customer, dtype: int64"
      ]
     },
     "execution_count": 92,
     "metadata": {},
     "output_type": "execute_result"
    }
   ],
   "source": [
    "df_complete['alcohol_customer'].value_counts()"
   ]
  },
  {
   "cell_type": "code",
   "execution_count": 93,
   "id": "1540bafe",
   "metadata": {},
   "outputs": [
    {
     "data": {
      "image/png": "[encoded data removed]",
      "text/plain": [
       "<Figure size 640x480 with 1 Axes>"
      ]
     },
     "metadata": {},
     "output_type": "display_data"
    }
   ],
   "source": [
    "alcoho_pie = df_complete['alcohol_customer'].value_counts().plot.pie(title='Distribution of Alcohol Consuming Customers',label = '',autopct='%1.1f%%')"
   ]
  },
  {
   "cell_type": "code",
   "execution_count": 95,
   "id": "849d9da2",
   "metadata": {},
   "outputs": [],
   "source": [
    "#Exporting Visualization\n",
    "alcoho_pie.figure.savefig(os.path.join(path,'04 Analysis', 'Visualizations','Alcohol Customers.png'))"
   ]
  },
  {
   "cell_type": "code",
   "execution_count": 96,
   "id": "8866e23b",
   "metadata": {},
   "outputs": [
    {
     "data": {
      "text/html": [
       "<div>\n",
       "<style scoped>\n",
       "    .dataframe tbody tr th:only-of-type {\n",
       "        vertical-align: middle;\n",
       "    }\n",
       "\n",
       "    .dataframe tbody tr th {\n",
       "        vertical-align: top;\n",
       "    }\n",
       "\n",
       "    .dataframe thead tr th {\n",
       "        text-align: left;\n",
       "    }\n",
       "\n",
       "    .dataframe thead tr:last-of-type th {\n",
       "        text-align: right;\n",
       "    }\n",
       "</style>\n",
       "<table border=\"1\" class=\"dataframe\">\n",
       "  <thead>\n",
       "    <tr>\n",
       "      <th></th>\n",
       "      <th colspan=\"3\" halign=\"left\">days_since_last_order</th>\n",
       "      <th colspan=\"3\" halign=\"left\">prices</th>\n",
       "    </tr>\n",
       "    <tr>\n",
       "      <th></th>\n",
       "      <th>max</th>\n",
       "      <th>mean</th>\n",
       "      <th>min</th>\n",
       "      <th>max</th>\n",
       "      <th>mean</th>\n",
       "      <th>min</th>\n",
       "    </tr>\n",
       "    <tr>\n",
       "      <th>alcohol_customer</th>\n",
       "      <th></th>\n",
       "      <th></th>\n",
       "      <th></th>\n",
       "      <th></th>\n",
       "      <th></th>\n",
       "      <th></th>\n",
       "    </tr>\n",
       "  </thead>\n",
       "  <tbody>\n",
       "    <tr>\n",
       "      <th>alcohol consumer</th>\n",
       "      <td>30.0</td>\n",
       "      <td>10.885580</td>\n",
       "      <td>0.0</td>\n",
       "      <td>99999.0</td>\n",
       "      <td>23.431691</td>\n",
       "      <td>1.0</td>\n",
       "    </tr>\n",
       "    <tr>\n",
       "      <th>non-alcohol consumer</th>\n",
       "      <td>30.0</td>\n",
       "      <td>11.121688</td>\n",
       "      <td>0.0</td>\n",
       "      <td>99999.0</td>\n",
       "      <td>11.058561</td>\n",
       "      <td>1.0</td>\n",
       "    </tr>\n",
       "  </tbody>\n",
       "</table>\n",
       "</div>"
      ],
      "text/plain": [
       "                     days_since_last_order                   prices  \\\n",
       "                                       max       mean  min      max   \n",
       "alcohol_customer                                                      \n",
       "alcohol consumer                      30.0  10.885580  0.0  99999.0   \n",
       "non-alcohol consumer                  30.0  11.121688  0.0  99999.0   \n",
       "\n",
       "                                      \n",
       "                           mean  min  \n",
       "alcohol_customer                      \n",
       "alcohol consumer      23.431691  1.0  \n",
       "non-alcohol consumer  11.058561  1.0  "
      ]
     },
     "execution_count": 96,
     "metadata": {},
     "output_type": "execute_result"
    }
   ],
   "source": [
    "# aggregate main variables on a customer-profile level for usage frequency and expenditure.\n",
    "df_complete.groupby('alcohol_customer').agg({'days_since_last_order':['max', 'mean', 'min'], 'prices':['max', 'mean', 'min']})"
   ]
  },
  {
   "cell_type": "code",
   "execution_count": 97,
   "id": "c89e43ee",
   "metadata": {},
   "outputs": [],
   "source": [
    "region_alcohol = pd.crosstab(df_complete['region'],df_complete['alcohol_customer'], dropna=False)"
   ]
  },
  {
   "cell_type": "code",
   "execution_count": 98,
   "id": "d11589d3",
   "metadata": {},
   "outputs": [
    {
     "data": {
      "image/png": "[encoded data removed]",
      "text/plain": [
       "<Figure size 640x480 with 1 Axes>"
      ]
     },
     "metadata": {},
     "output_type": "display_data"
    }
   ],
   "source": [
    "# create a bar chart between age and region\n",
    "regions_alcohol_viz=region_alcohol.plot.bar()\n",
    "plt.title('Alcohol Consumption by Region')\n",
    "plt.show()"
   ]
  },
  {
   "cell_type": "code",
   "execution_count": 99,
   "id": "41b3df1e",
   "metadata": {},
   "outputs": [],
   "source": [
    "#Exporting Visualization\n",
    "regions_alcohol_viz.figure.savefig(os.path.join(path,'04 Analysis', 'Visualizations','Alcohol Cusumption by Region.png'))"
   ]
  },
  {
   "cell_type": "markdown",
   "id": "ae0635cd",
   "metadata": {},
   "source": [
    "### Profile of peolpe that have dependants"
   ]
  },
  {
   "cell_type": "code",
   "execution_count": 101,
   "id": "f326937a",
   "metadata": {},
   "outputs": [],
   "source": [
    "# create segmentation for each customer: \n",
    "df_complete.loc[(df_complete['fam_status'].isin(['divorced/widowed', 'living with parents and siblings', 'single'])) & (df_complete['n_dependants']==0), 'family_flag'] = 'single no dependants'\n",
    "df_complete.loc[(df_complete['fam_status'].isin(['divorced/widowed', 'living with parents and siblings', 'single'])) & (df_complete['n_dependants'] >=1), 'family_flag'] = 'single with dependants'\n",
    "df_complete.loc[(df_complete['fam_status'] == 'married') & (df_complete['n_dependants'] == 1), 'family_flag'] = 'married no dependants'\n",
    "df_complete.loc[(df_complete['fam_status'] == 'married') & (df_complete['n_dependants'] > 1), 'family_flag'] = 'married with dependants'"
   ]
  },
  {
   "cell_type": "code",
   "execution_count": 102,
   "id": "b1929176",
   "metadata": {},
   "outputs": [
    {
     "data": {
      "text/plain": [
       "married with dependants    15205849\n",
       "single no dependants        8097503\n",
       "married no dependants       7550904\n",
       "single with dependants      1550603\n",
       "Name: family_flag, dtype: int64"
      ]
     },
     "execution_count": 102,
     "metadata": {},
     "output_type": "execute_result"
    }
   ],
   "source": [
    "df_complete['family_flag'].value_counts()"
   ]
  },
  {
   "cell_type": "code",
   "execution_count": 103,
   "id": "66d9b30d",
   "metadata": {},
   "outputs": [
    {
     "data": {
      "image/png": "[encoded data removed]",
      "text/plain": [
       "<Figure size 640x480 with 1 Axes>"
      ]
     },
     "metadata": {},
     "output_type": "display_data"
    }
   ],
   "source": [
    "family_flag_pie = df_complete['family_flag'].value_counts().plot.pie(title = 'Family Status', label = '', autopct='%1.1f%%')"
   ]
  },
  {
   "cell_type": "code",
   "execution_count": 104,
   "id": "94d01c44",
   "metadata": {},
   "outputs": [],
   "source": [
    "#Exporting Visualization\n",
    "family_flag_pie.figure.savefig(os.path.join(path,'04 Analysis', 'Visualizations','Alcohol Cusumption by Region.png'))"
   ]
  },
  {
   "cell_type": "code",
   "execution_count": 105,
   "id": "bf63e7b8",
   "metadata": {},
   "outputs": [
    {
     "data": {
      "text/html": [
       "<div>\n",
       "<style scoped>\n",
       "    .dataframe tbody tr th:only-of-type {\n",
       "        vertical-align: middle;\n",
       "    }\n",
       "\n",
       "    .dataframe tbody tr th {\n",
       "        vertical-align: top;\n",
       "    }\n",
       "\n",
       "    .dataframe thead tr th {\n",
       "        text-align: left;\n",
       "    }\n",
       "\n",
       "    .dataframe thead tr:last-of-type th {\n",
       "        text-align: right;\n",
       "    }\n",
       "</style>\n",
       "<table border=\"1\" class=\"dataframe\">\n",
       "  <thead>\n",
       "    <tr>\n",
       "      <th></th>\n",
       "      <th colspan=\"3\" halign=\"left\">days_since_last_order</th>\n",
       "      <th colspan=\"3\" halign=\"left\">prices</th>\n",
       "    </tr>\n",
       "    <tr>\n",
       "      <th></th>\n",
       "      <th>max</th>\n",
       "      <th>mean</th>\n",
       "      <th>min</th>\n",
       "      <th>max</th>\n",
       "      <th>mean</th>\n",
       "      <th>min</th>\n",
       "    </tr>\n",
       "    <tr>\n",
       "      <th>family_flag</th>\n",
       "      <th></th>\n",
       "      <th></th>\n",
       "      <th></th>\n",
       "      <th></th>\n",
       "      <th></th>\n",
       "      <th></th>\n",
       "    </tr>\n",
       "  </thead>\n",
       "  <tbody>\n",
       "    <tr>\n",
       "      <th>married no dependants</th>\n",
       "      <td>30.0</td>\n",
       "      <td>11.113141</td>\n",
       "      <td>0.0</td>\n",
       "      <td>99999.0</td>\n",
       "      <td>11.705834</td>\n",
       "      <td>1.0</td>\n",
       "    </tr>\n",
       "    <tr>\n",
       "      <th>married with dependants</th>\n",
       "      <td>30.0</td>\n",
       "      <td>11.117681</td>\n",
       "      <td>0.0</td>\n",
       "      <td>99999.0</td>\n",
       "      <td>12.154546</td>\n",
       "      <td>1.0</td>\n",
       "    </tr>\n",
       "    <tr>\n",
       "      <th>single no dependants</th>\n",
       "      <td>30.0</td>\n",
       "      <td>11.080805</td>\n",
       "      <td>0.0</td>\n",
       "      <td>99999.0</td>\n",
       "      <td>12.129243</td>\n",
       "      <td>1.0</td>\n",
       "    </tr>\n",
       "    <tr>\n",
       "      <th>single with dependants</th>\n",
       "      <td>30.0</td>\n",
       "      <td>11.048170</td>\n",
       "      <td>0.0</td>\n",
       "      <td>99999.0</td>\n",
       "      <td>10.828768</td>\n",
       "      <td>1.0</td>\n",
       "    </tr>\n",
       "  </tbody>\n",
       "</table>\n",
       "</div>"
      ],
      "text/plain": [
       "                        days_since_last_order                   prices  \\\n",
       "                                          max       mean  min      max   \n",
       "family_flag                                                              \n",
       "married no dependants                    30.0  11.113141  0.0  99999.0   \n",
       "married with dependants                  30.0  11.117681  0.0  99999.0   \n",
       "single no dependants                     30.0  11.080805  0.0  99999.0   \n",
       "single with dependants                   30.0  11.048170  0.0  99999.0   \n",
       "\n",
       "                                         \n",
       "                              mean  min  \n",
       "family_flag                              \n",
       "married no dependants    11.705834  1.0  \n",
       "married with dependants  12.154546  1.0  \n",
       "single no dependants     12.129243  1.0  \n",
       "single with dependants   10.828768  1.0  "
      ]
     },
     "execution_count": 105,
     "metadata": {},
     "output_type": "execute_result"
    }
   ],
   "source": [
    "# aggregate main variables on a customer-profile.\n",
    "df_complete.groupby('family_flag').agg({'days_since_last_order':['max', 'mean', 'min'], 'prices':['max', 'mean', 'min']})"
   ]
  },
  {
   "cell_type": "code",
   "execution_count": 107,
   "id": "6c7a7172",
   "metadata": {},
   "outputs": [],
   "source": [
    "region_family=pd.crosstab(df_complete['region'],df_complete['family_flag'], dropna=False)"
   ]
  },
  {
   "cell_type": "code",
   "execution_count": 108,
   "id": "2b923f9c",
   "metadata": {},
   "outputs": [
    {
     "data": {
      "image/png": "[encoded data removed]",
      "text/plain": [
       "<Figure size 640x480 with 1 Axes>"
      ]
     },
     "metadata": {},
     "output_type": "display_data"
    }
   ],
   "source": [
    "# create a bar chart between age and region\n",
    "regions_family_viz=region_family.plot.bar()\n",
    "plt.title('Family Status by Region')\n",
    "plt.show()"
   ]
  },
  {
   "cell_type": "code",
   "execution_count": 110,
   "id": "b6b8c32b",
   "metadata": {},
   "outputs": [],
   "source": [
    "#Exporting Visualization\n",
    "regions_family_viz.figure.savefig(os.path.join(path,'04 Analysis', 'Visualizations','Family Status by region.png'))"
   ]
  },
  {
   "cell_type": "code",
   "execution_count": 111,
   "id": "f10dab57",
   "metadata": {},
   "outputs": [],
   "source": [
    "# creating a crosstab between department and income\n",
    "department_family=pd.crosstab(df_complete['department'],df_complete['family_flag'],dropna=False,)"
   ]
  },
  {
   "cell_type": "code",
   "execution_count": 112,
   "id": "36d62dbf",
   "metadata": {},
   "outputs": [],
   "source": [
    "department_family = department_family.sort_values(by=['married with dependants'], ascending=True)"
   ]
  },
  {
   "cell_type": "code",
   "execution_count": 113,
   "id": "56b57188",
   "metadata": {},
   "outputs": [
    {
     "data": {
      "image/png": "[encoded data removed]",
      "text/plain": [
       "<Figure size 640x480 with 1 Axes>"
      ]
     },
     "metadata": {},
     "output_type": "display_data"
    }
   ],
   "source": [
    "# create a bar chart between income and department\n",
    "department_family_viz=department_family.plot.barh(stacked=True)\n",
    "plt.title('Family Status by Department')\n",
    "plt.show()"
   ]
  },
  {
   "cell_type": "code",
   "execution_count": 114,
   "id": "6a4d30bf",
   "metadata": {},
   "outputs": [],
   "source": [
    "#Exporting Visualization\n",
    "department_family_viz.figure.savefig(os.path.join(path,'04 Analysis', 'Visualizations','Family Status by department.png'))"
   ]
  },
  {
   "cell_type": "code",
   "execution_count": 115,
   "id": "c2278c2e",
   "metadata": {},
   "outputs": [],
   "source": [
    "df_complete.to_pickle(os.path.join(path, '02 Data','Prepared Data', 'DF complete 410.pkl'))"
   ]
  },
  {
   "cell_type": "code",
   "execution_count": null,
   "id": "4a78349b",
   "metadata": {},
   "outputs": [],
   "source": []
  }
 ],
 "metadata": {
  "kernelspec": {
   "display_name": "Python 3 (ipykernel)",
   "language": "python",
   "name": "python3"
  },
  "language_info": {
   "codemirror_mode": {
    "name": "ipython",
    "version": 3
   },
   "file_extension": ".py",
   "mimetype": "text/x-python",
   "name": "python",
   "nbconvert_exporter": "python",
   "pygments_lexer": "ipython3",
   "version": "3.10.9"
  }
 },
 "nbformat": 4,
 "nbformat_minor": 5
}
